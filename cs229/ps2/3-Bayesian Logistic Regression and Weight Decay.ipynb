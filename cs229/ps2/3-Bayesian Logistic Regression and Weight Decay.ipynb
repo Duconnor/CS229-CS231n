{
 "cells": [
  {
   "cell_type": "markdown",
   "metadata": {},
   "source": [
    "# CS229, Fall 2017\n",
    "## Problem Set 2: Supervised Learning II\n",
    "### 3. Bayesian Logistic Regression and weight decay"
   ]
  },
  {
   "cell_type": "markdown",
   "metadata": {},
   "source": [
    "We prove this by using contradiction.  \n",
    "Suppose we have:\n",
    "$$||\\theta_{\\mathrm {MAP}}||_2>||\\theta_{\\mathrm{ML}}||_2$$\n",
    "Let $\\theta_1=\\theta_{\\mathrm {MAP}}$ and $\\theta_2=\\theta_{\\mathrm{ML}}$. And because $\\theta\\sim {\\mathcal N}(0,\\tau^2I)$, it is clear that the smaller $||\\theta_1||_2$ is, the bigger $p(\\theta_1)$ will be.  \n",
    "Refer to the definition of MAP and ML, we have:\n",
    "\\begin{align*}\n",
    "&\\theta_{\\mathrm {MAP}}=\\arg\\max_\\theta p(\\theta)\\prod_{i=1}^{m}p(y^{(i)}|x^{(i)},\\theta)\\\\\n",
    "&\\theta_{\\mathrm{ML}}=\\arg\\max_\\theta\\prod_{i=1}^mp(y^{(i)}|x^{(i)};\\theta)\n",
    "\\end{align*}\n",
    "Because $\\theta_2$ can maximize $\\prod_{i=1}^mp(y^{(i)}|x^{(i)};\\theta)$, simply by setting $\\theta_1=\\theta_2$ can give us a larger value of $p(\\theta)\\prod_{i=1}^{m}p(y^{(i)}|x^{(i)},\\theta)$ since\n",
    "\\begin{align*}\n",
    "&\\prod_{i=1}^mp(y^{(i)}|x^{(i)};\\theta_2)\\ge \\prod_{i=1}^mp(y^{(i)}|x^{(i)};\\theta_1)\\\\\n",
    "&p(\\theta_2)> p(\\theta_1)\n",
    "\\end{align*}\n",
    "The first inequality holds since $\\theta_2$ is the maximum likelihood estimation of $\\theta$ and the second inequality holds due to the property of Gaussian distribution.  \n",
    "So $\\theta_1$ is not the MAP estimation of $\\theta$, which is a contradiction.  \n",
    "Thus, by contradiction, we have:\n",
    "$$||\\theta_{\\mathrm {MAP}}||_2\\le||\\theta_{\\mathrm{ML}}||_2$$"
   ]
  },
  {
   "cell_type": "code",
   "execution_count": null,
   "metadata": {},
   "outputs": [],
   "source": []
  }
 ],
 "metadata": {
  "kernelspec": {
   "display_name": "Python 3",
   "language": "python",
   "name": "python3"
  },
  "language_info": {
   "codemirror_mode": {
    "name": "ipython",
    "version": 3
   },
   "file_extension": ".py",
   "mimetype": "text/x-python",
   "name": "python",
   "nbconvert_exporter": "python",
   "pygments_lexer": "ipython3",
   "version": "3.6.7"
  }
 },
 "nbformat": 4,
 "nbformat_minor": 2
}
