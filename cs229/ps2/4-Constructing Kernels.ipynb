{
 "cells": [
  {
   "cell_type": "markdown",
   "metadata": {},
   "source": [
    "# CS229, Fall 2017\n",
    "## Problem Set 2: Supervised Learning II\n",
    "### 3. Constructing Kernels"
   ]
  },
  {
   "cell_type": "markdown",
   "metadata": {},
   "source": [
    "#### (a)"
   ]
  },
  {
   "cell_type": "markdown",
   "metadata": {},
   "source": [
    "$$K(x,z)=K_1(x,z)+K_2(x,z)$$\n",
    "is a valid kernel.  \n",
    "Let $K$ be its corresponding kernel matrix, since $K_1$ and $K_2$ are both valid kernel, for $K$ we have:\n",
    "\\begin{align*}\n",
    "&\\sum_{i=1}^m\\sum_{j=1}^mz_iK_{ij}z_j\\\\\n",
    "=&\\sum_{i=1}^m\\sum_{j=1}^mz_i(K^1_{ij}+K^2_{ij})z_j\\\\\n",
    "=&\\sum_{i=1}^m\\sum_{j=1}^mz_iK^1_{ij}z_j+\\sum_{i=1}^m\\sum_{j=1}^mz_iK^2_{ij}z_j\n",
    "\\ge0\n",
    "\\end{align*}\n",
    "So by Mercer’s theorem, it is a valid kernel."
   ]
  },
  {
   "cell_type": "markdown",
   "metadata": {},
   "source": [
    "#### (b)"
   ]
  },
  {
   "cell_type": "markdown",
   "metadata": {},
   "source": [
    "$$K(x,z)=K_1(x,z)-K_2(x,z)$$\n",
    "is **not** a valid kernel.  \n",
    "Consider the following counterexample. Let $K_1$ be a diagnoal matrix whose elements are all $1$, and let $K_2$ also be a diagonal matrix whose elements are all $2$. Then for kernel matrix $K$, it is also a diagnoal matrix whose elements are all $-1$. It is clear that $K$ is not positive semi-definite, so by Mercer's theorem, it is **not** a valid kernel."
   ]
  },
  {
   "cell_type": "markdown",
   "metadata": {},
   "source": [
    "#### (c)"
   ]
  },
  {
   "cell_type": "markdown",
   "metadata": {},
   "source": [
    "$$K(x,z)=aK_1(x,z)$$\n",
    "is a valid kernel.  \n",
    "Similar to proof in question (a), we now have:\n",
    "\\begin{align*}\n",
    "&\\sum_{i=1}^m\\sum_{j=1}^mz_iK_{ij}z_j\\\\\n",
    "=a&\\sum_{i=1}^m\\sum_{j=1}^mz_iK^1_{ij}z_j\\ge 0\n",
    "\\end{align*}\n",
    "So by Mercer's theorem, it is a valid kernel."
   ]
  },
  {
   "cell_type": "markdown",
   "metadata": {},
   "source": [
    "#### (d)"
   ]
  },
  {
   "cell_type": "markdown",
   "metadata": {},
   "source": [
    "$$K(x,z)=-aK_1(x,z)$$\n",
    "is **not** a valid kernel.  \n",
    "Similar to the above question, but now because we multiply $-a$, then \n",
    "$$\\sum_{i=1}^m\\sum_{j=1}^mz_iK_{ij}z_j\\le 0$$\n",
    "So by Mercer's theorem, it is **not** a valid kernel."
   ]
  },
  {
   "cell_type": "markdown",
   "metadata": {},
   "source": [
    "#### (e)"
   ]
  },
  {
   "cell_type": "markdown",
   "metadata": {},
   "source": [
    "$$K(x,z)=K_1(x,z)K_2(x,z)$$\n",
    "is a valid kernel.  \n",
    "Let $K$ be its corresponding kernel matrix, we have:\n",
    "\\begin{align*}\n",
    "&\\sum_{i=1}^m\\sum_{j=1}^mz_iK_{ij}z_j\\\\\n",
    "=&\\sum_{i=1}^m\\sum_{j=1}^mz_i\\sum_{k=1}^n\\phi_k^1(x^{(i)})\\phi_k^1(x^{(j)})\\sum_{l=1}^n\\phi_l^2(x^{(i)})\\phi_l^2(x^{(j)})z_j\\\\\n",
    "=&\\sum_{i=1}^m\\sum_{j=1}^mz_i\\sum_{p=1}^{2n}\\phi_p(x^{(i)})\\phi_p(x^{(j)})z_j\\\\\n",
    "=&\\sum_{p=1}^{2n}\\sum_{i=1}^m\\sum_{j=1}^mz_i\\phi_p(x^{(i)})\\phi_p(x^{(j)})z_j\\\\\n",
    "=&\\sum_{p=1}^{2n}(\\sum_{i=1}^mz_i\\phi_p(x^{(i)}))^2\\ge 0\n",
    "\\end{align*}\n",
    "where for each $p$, we can write it in $p=k+l$ and we have $\\phi_p(x)=\\phi_k(x)\\phi_l(x)$  \n",
    "Therefore, by Mercer's theorem, it is a valid kernel."
   ]
  },
  {
   "cell_type": "markdown",
   "metadata": {},
   "source": [
    "#### (f)"
   ]
  },
  {
   "cell_type": "markdown",
   "metadata": {},
   "source": [
    "$$K(x,z)=f(x)f(z)$$\n",
    "is a valid kernel.  \n",
    "Its kernel matrix $K$ has:\n",
    "\\begin{align*}\n",
    "&\\sum_{i=1}^m\\sum_{j=1}^mz_iK_{ij}z_j\\\\\n",
    "=&\\sum_{i=1}^m\\sum_{j=1}^mz_if(x^{(i)})f(x^{(j)})z_j\\\\\n",
    "=&(\\sum_{i=1}^mz_if(x^{(i)}))^2\\ge 0\n",
    "\\end{align*}\n",
    "Therefore, by Mercer's theorem, it is a valid kernel."
   ]
  },
  {
   "cell_type": "markdown",
   "metadata": {},
   "source": [
    "#### (g)"
   ]
  },
  {
   "cell_type": "markdown",
   "metadata": {},
   "source": [
    "$$K(x,z)=K_3(\\phi(x),\\phi(z))$$\n",
    "is a valid kernel.  \n",
    "Its kernel matrix $K$ has:\n",
    "\\begin{align*}\n",
    "&\\sum_{i=1}^m\\sum_{j=1}^mz_iK^3_{ij}z_j\\\\\n",
    "=&\\sum_{i=1}^m\\sum_{j=1}^mz_i\\sum_{k=1}^d\\phi^3_k(\\phi(x_i))\\phi^3_k(\\phi(x_j))z_j\\\\\n",
    "=&\\sum_{k=1}^d(\\sum_{i=1}^mz_i\\phi^3_i(\\phi(x_i)))^2\\ge 0\n",
    "\\end{align*}\n",
    "Therefore, by Mercer's theorem, it is a valid kernel."
   ]
  },
  {
   "cell_type": "code",
   "execution_count": null,
   "metadata": {},
   "outputs": [],
   "source": []
  }
 ],
 "metadata": {
  "kernelspec": {
   "display_name": "Python 3",
   "language": "python",
   "name": "python3"
  },
  "language_info": {
   "codemirror_mode": {
    "name": "ipython",
    "version": 3
   },
   "file_extension": ".py",
   "mimetype": "text/x-python",
   "name": "python",
   "nbconvert_exporter": "python",
   "pygments_lexer": "ipython3",
   "version": "3.6.7"
  }
 },
 "nbformat": 4,
 "nbformat_minor": 2
}
