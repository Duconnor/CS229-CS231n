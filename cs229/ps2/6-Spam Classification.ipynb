{
 "cells": [
  {
   "cell_type": "markdown",
   "metadata": {},
   "source": [
    "# CS229, Fall 2017\n",
    "## Probelm Set 2: Supervised Learning II\n",
    "### 6. Spam Classification"
   ]
  },
  {
   "cell_type": "markdown",
   "metadata": {},
   "source": [
    "#### (a)"
   ]
  },
  {
   "cell_type": "markdown",
   "metadata": {},
   "source": [
    "Let's first briefly review what Naive Bayes and Laplace smoothing is."
   ]
  },
  {
   "cell_type": "markdown",
   "metadata": {},
   "source": [
    "##### Naive Bayes\n",
    "Naive Bayes is a generative model, which means we need to model $p(x|y)$ and make predictions according to Bayes rule.  \n",
    "A model is called Naive Bayes is we use the **Naive Bayes assumption**, which is we assume $x_i$ is conditionally independent given $y$ (if I tell you an email is spam, then whether $x_{12386}$ equals to 1 or not does not effect $x_{23557}$)  \n",
    "So we have:\n",
    "\\begin{align*}\n",
    "p(x_1,\\dots,x_{100}|y)&=p(x_1|y)p(x_2|y,x_1)\\dots p(x_{100}|y,x_1,x_2,\\dot,x_{99})\\\\\n",
    "&=p(x_1|y)p(x_2|y)\\dots p(x_{100}|y)\\\\\n",
    "&=\\prod_{i=1}^{100}p(x_i|y)\n",
    "\\end{align*}\n",
    "The above equation is our model, as we can see, the parameters are $p(x_j|y=1)$, $p(x_j=1|y=0)$ and $p(y=1)$.  \n",
    "**For generative model, given the training set, we define the likelihood to be the joint distribution**:\n",
    "$$p(x^{(i)},y^{(i)})$$\n",
    "After learning all parameters by maximizing the above likelihood function, we can make predictions by using Bayes rule."
   ]
  },
  {
   "cell_type": "markdown",
   "metadata": {},
   "source": [
    "##### Laplace smoothing\n",
    "When we used the above way to train a model, and after that we now begin to use this model to make predictions. It is really likely that we might encounter some new words that we have never seen in our training examples. And by computing the posterior probability, we find it is\n",
    "$$\\frac{0}{0}$$\n",
    "So, in order to avoid this problem, we will modify the maximum likelihood estimate of our parameters by:\n",
    "\\begin{align*}\n",
    "&\\phi_{j|y=1}=p(x_j=1|y=1)=\\frac{\\sum_{i=1}^m{\\bf 1}\\{x^{(i)}_j=1\\bigwedge y^{(i)}=1\\}+1}{\\sum_{i=1}^m{\\bf 1}\\{y^{(i)}=1\\}+2}\\\\\n",
    "&\\phi_{j|y=0}=p(x_j=1|y=0)=\\frac{\\sum_{i=1}^m{\\bf 1}\\{x^{(i)}_j=1\\bigwedge y^{(i)}=0\\}+1}{\\sum_{i=1}^m{\\bf 1}\\{y^{(i)}=0\\}+2}\n",
    "\\end{align*}"
   ]
  },
  {
   "cell_type": "markdown",
   "metadata": {},
   "source": [
    "##### Event model\n",
    "Differences between multi-variant Bernoulli event model and multinomial event model:\n",
    "* Multi-variant Bernoulli event model: first determined if it is spam or not. Then for each word in the vocabulary, determine whether it is in or not in the email (that's why we call it Bernoulli).  \n",
    "* Multinomial event model: first determined if it is spam or not. Then just like we write an email, for the i'th word in the email, we determine which word in the vocabulary we want to use (can have value other than 1 and 0).\n",
    "\n",
    "So if we use the multinomial event model, we will have a different likelihood function, and thus a different estimation of parameters."
   ]
  },
  {
   "cell_type": "code",
   "execution_count": 1,
   "metadata": {},
   "outputs": [],
   "source": [
    "import numpy as np\n",
    "import heapq\n",
    "import matplotlib.pyplot as plt"
   ]
  },
  {
   "cell_type": "code",
   "execution_count": 2,
   "metadata": {},
   "outputs": [],
   "source": [
    "def readMatrix(file):\n",
    "    fd = open(file, 'r')\n",
    "    hdr = fd.readline()\n",
    "    rows, cols = [int(s) for s in fd.readline().strip().split()]\n",
    "    tokens = fd.readline().strip().split()\n",
    "    matrix = np.zeros((rows, cols))\n",
    "    Y = []\n",
    "    for i, line in enumerate(fd):\n",
    "        nums = [int(x) for x in line.strip().split()]\n",
    "        Y.append(nums[0])\n",
    "        kv = np.array(nums[1:])\n",
    "        k = np.cumsum(kv[:-1:2])\n",
    "        v = kv[1::2]\n",
    "        matrix[i, k] = v\n",
    "    return matrix, tokens, np.array(Y)\n",
    "\n",
    "\n",
    "def nb_train(matrix, category, token_size):\n",
    "    state = {}\n",
    "    N = matrix.shape[1]\n",
    "    M = matrix.shape[0]\n",
    "    ###################\n",
    "    # First, we calculate the phi_y\n",
    "    index = category == 1\n",
    "    phi_y = category[index].shape[0] / M\n",
    "    state.update({'phi_y': phi_y})\n",
    "\n",
    "    # Second, we calculate the phi_{k|y=1} and phi_{k|y=0}\n",
    "    index_pos = category == 1\n",
    "    denominator_pos = np.prod(matrix[index_pos].shape) + token_size\n",
    "    index_neg = category == 0\n",
    "    denominator_neg = np.prod(matrix[index_neg].shape) + token_size\n",
    "    for i in range(token_size):\n",
    "        matrix_one = matrix[index_pos]\n",
    "        phi_k1 = (np.sum(matrix_one[:, i]) + 1) / denominator_pos\n",
    "        key = 'phi_' + str(i) + '1'\n",
    "        state.update({key: phi_k1})\n",
    "\n",
    "        matrix_zero = matrix[index_neg]\n",
    "        phi_k0 = (np.sum(matrix_zero[:, i]) + 1) / denominator_neg\n",
    "        key = 'phi_' + str(i) + '0'\n",
    "        state.update({key: phi_k0})\n",
    "    ###################\n",
    "    return state\n",
    "\n",
    "\n",
    "def nb_test(matrix, state, token_size):\n",
    "    N = matrix.shape[1]\n",
    "    output = np.zeros(matrix.shape[0])\n",
    "    ###################\n",
    "    phi_y = state['phi_y']  # phi_y = p(y=1)\n",
    "    prob_one = np.zeros(N)\n",
    "    prob_zero = np.zeros(N)\n",
    "    for i in range(N):\n",
    "        key = 'phi_' + str(i) + '1'\n",
    "        phi_1 = state[key]\n",
    "        prob_one[i] = phi_1\n",
    "        key = 'phi_' + str(i) + '0'\n",
    "        phi_0 = state[key]\n",
    "        prob_zero[i] = phi_0\n",
    "\n",
    "    # As the result of underflow, we calculate the log probability instead\n",
    "    '''\n",
    "    res_one = np.prod(prob_one * matrix, 1)\n",
    "    res_zero = np.prod(prob_zero * matrix, 1)\n",
    "    '''\n",
    "    # res_one(zero) are the summation of probability\n",
    "    res_one = np.dot(matrix, np.log(prob_one))\n",
    "    res_zero = np.dot(matrix, np.log(prob_zero))\n",
    "    # The denominator is the same, so we can just compare the numerator\n",
    "    post_prob_one = (res_one + np.log(phi_y))\n",
    "    post_prob_zero = (res_zero + np.log(1 - phi_y))\n",
    "    output = (post_prob_one >= post_prob_zero) + 0\n",
    "    ###################\n",
    "    return output\n",
    "\n",
    "\n",
    "def evaluate(output, label):\n",
    "    error = (output != label).sum() * 1. / len(output)\n",
    "    print('Error: %1.4f' % error)\n",
    "    return error"
   ]
  },
  {
   "cell_type": "code",
   "execution_count": 3,
   "metadata": {},
   "outputs": [
    {
     "name": "stdout",
     "output_type": "stream",
     "text": [
      "Error: 0.0600\n"
     ]
    }
   ],
   "source": [
    "def main():\n",
    "    trainMatrix, tokenlist, trainCategory = readMatrix(\n",
    "        './data/spam_data/MATRIX.TRAIN')\n",
    "    testMatrix, tokenlist, testCategory = readMatrix(\n",
    "        './data/spam_data/MATRIX.TEST')\n",
    "\n",
    "    state = nb_train(trainMatrix, trainCategory, len(tokenlist))\n",
    "    output = nb_test(testMatrix, state, len(tokenlist))\n",
    "\n",
    "    evaluate(output, testCategory)\n",
    "    return\n",
    "\n",
    "\n",
    "if __name__ == '__main__':\n",
    "    main()"
   ]
  },
  {
   "cell_type": "markdown",
   "metadata": {},
   "source": [
    "#### (b)"
   ]
  },
  {
   "cell_type": "code",
   "execution_count": 4,
   "metadata": {},
   "outputs": [],
   "source": [
    "def nb_find_indicative(matrix, state, tokenlist):\n",
    "    N = matrix.shape[1]\n",
    "    phi_y = state['phi_y']  # phi_y = p(y=1)\n",
    "    prob_one = np.zeros(N)\n",
    "    prob_zero = np.zeros(N)\n",
    "    for i in range(N):\n",
    "        key = 'phi_' + str(i) + '1'\n",
    "        phi_1 = state[key]\n",
    "        prob_one[i] = phi_1\n",
    "        key = 'phi_' + str(i) + '0'\n",
    "        phi_0 = state[key]\n",
    "        prob_zero[i] = phi_0\n",
    "\n",
    "    # FInd 5 most indicative tokens\n",
    "    res = np.log(prob_one / prob_zero)\n",
    "    index = heapq.nlargest(5, range(len(res)), res.take)\n",
    "    print('5 tokens that are most indicative of the SPAM class are: ')\n",
    "    for i in index:\n",
    "        print(tokenlist[i])"
   ]
  },
  {
   "cell_type": "code",
   "execution_count": 5,
   "metadata": {
    "scrolled": true
   },
   "outputs": [
    {
     "name": "stdout",
     "output_type": "stream",
     "text": [
      "5 tokens that are most indicative of the SPAM class are: \n",
      "httpaddr\n",
      "spam\n",
      "unsubscrib\n",
      "ebai\n",
      "valet\n"
     ]
    }
   ],
   "source": [
    "def main():\n",
    "    trainMatrix, tokenlist, trainCategory = readMatrix(\n",
    "        './data/spam_data/MATRIX.TRAIN')\n",
    "    testMatrix, tokenlist, testCategory = readMatrix(\n",
    "        './data/spam_data/MATRIX.TEST')\n",
    "\n",
    "    state = nb_train(trainMatrix, trainCategory, len(tokenlist))\n",
    "    nb_find_indicative(testMatrix, state, tokenlist)\n",
    "    return\n",
    "\n",
    "\n",
    "if __name__ == '__main__':\n",
    "    main()"
   ]
  },
  {
   "cell_type": "markdown",
   "metadata": {},
   "source": [
    "#### (c)"
   ]
  },
  {
   "cell_type": "code",
   "execution_count": 6,
   "metadata": {},
   "outputs": [
    {
     "name": "stdout",
     "output_type": "stream",
     "text": [
      "Error: 0.2025\n",
      "Error: 0.2100\n",
      "Error: 0.1963\n",
      "Error: 0.0850\n",
      "Error: 0.0587\n",
      "Error: 0.0512\n"
     ]
    },
    {
     "data": {
      "image/png": "[encoded data removed]",
      "text/plain": [
       "<Figure size 432x288 with 1 Axes>"
      ]
     },
     "metadata": {
      "needs_background": "light"
     },
     "output_type": "display_data"
    }
   ],
   "source": [
    "def main():\n",
    "    sizes = [50, 100, 200, 400, 800, 1400]\n",
    "    errors = []\n",
    "    testMatrix, tokenlist, testCategory = readMatrix(\n",
    "        './data/spam_data/MATRIX.TEST')\n",
    "    for size in sizes:\n",
    "        trainMatrix, tokenlist, trainCategory = readMatrix(\n",
    "        './data/spam_data/MATRIX.TRAIN.' + str(size))\n",
    "        state = nb_train(trainMatrix, trainCategory, len(tokenlist))\n",
    "        output = nb_test(testMatrix, state, len(tokenlist))\n",
    "        error = evaluate(output, testCategory)\n",
    "        errors.append(error)\n",
    "    \n",
    "    # plot\n",
    "    plt.plot(sizes, errors)\n",
    "    plt.title('Different traning set sizes and their test error')\n",
    "    plt.xlabel('Size')\n",
    "    plt.ylabel('Test error')\n",
    "    return\n",
    "\n",
    "\n",
    "if __name__ == '__main__':\n",
    "    main()"
   ]
  },
  {
   "cell_type": "markdown",
   "metadata": {},
   "source": [
    "From the curve and the data, we can see that training set of size **1400** gives the best test set error."
   ]
  },
  {
   "cell_type": "markdown",
   "metadata": {},
   "source": [
    "#### (d)"
   ]
  },
  {
   "cell_type": "code",
   "execution_count": 9,
   "metadata": {},
   "outputs": [],
   "source": [
    "import numpy as np\n",
    "\n",
    "tau = 8.\n",
    "\n",
    "def readMatrix(file):\n",
    "    fd = open(file, 'r')\n",
    "    hdr = fd.readline()\n",
    "    rows, cols = [int(s) for s in fd.readline().strip().split()]\n",
    "    tokens = fd.readline().strip().split()\n",
    "    matrix = np.zeros((rows, cols))\n",
    "    Y = []\n",
    "    for i, line in enumerate(fd):\n",
    "        nums = [int(x) for x in line.strip().split()]\n",
    "        Y.append(nums[0])\n",
    "        kv = np.array(nums[1:])\n",
    "        k = np.cumsum(kv[:-1:2])\n",
    "        v = kv[1::2]\n",
    "        matrix[i, k] = v\n",
    "    category = (np.array(Y) * 2) - 1\n",
    "    return matrix, tokens, category\n",
    "\n",
    "def svm_train(matrix, category):\n",
    "    state = {}\n",
    "    M, N = matrix.shape\n",
    "    #####################\n",
    "    Y = category\n",
    "    matrix = 1. * (matrix > 0)\n",
    "    squared = np.sum(matrix * matrix, axis=1)\n",
    "    gram = matrix.dot(matrix.T)\n",
    "    K = np.exp(-(squared.reshape((1, -1)) + squared.reshape((-1, 1)) - 2 * gram) / (2 * (tau ** 2)) )\n",
    "\n",
    "    alpha = np.zeros(M)\n",
    "    alpha_avg = np.zeros(M)\n",
    "    L = 1. / (64 * M)\n",
    "    outer_loops = 40\n",
    "\n",
    "    alpha_avg\n",
    "    for ii in range(outer_loops * M):\n",
    "        i = int(np.random.rand() * M)\n",
    "        margin = Y[i] * np.dot(K[i, :], alpha)\n",
    "        grad = M * L * K[:, i] * alpha[i]\n",
    "        if (margin < 1):\n",
    "            grad -=  Y[i] * K[:, i]\n",
    "        alpha -=  grad / np.sqrt(ii + 1)\n",
    "        alpha_avg += alpha\n",
    "\n",
    "    alpha_avg /= (ii + 1) * M\n",
    "\n",
    "    state['alpha'] = alpha\n",
    "    state['alpha_avg'] = alpha_avg\n",
    "    state['Xtrain'] = matrix\n",
    "    state['Sqtrain'] = squared\n",
    "    ####################\n",
    "    return state\n",
    "\n",
    "def svm_test(matrix, state):\n",
    "    M, N = matrix.shape\n",
    "    output = np.zeros(M)\n",
    "    ###################\n",
    "    Xtrain = state['Xtrain']\n",
    "    Sqtrain = state['Sqtrain']\n",
    "    matrix = 1. * (matrix > 0)\n",
    "    squared = np.sum(matrix * matrix, axis=1)\n",
    "    gram = matrix.dot(Xtrain.T)\n",
    "    K = np.exp(-(squared.reshape((-1, 1)) + Sqtrain.reshape((1, -1)) - 2 * gram) / (2 * (tau ** 2)))\n",
    "    alpha_avg = state['alpha_avg']\n",
    "    preds = K.dot(alpha_avg)\n",
    "    output = np.sign(preds)\n",
    "    ###################\n",
    "    return output\n",
    "\n",
    "def evaluate(output, label):\n",
    "    error = (output != label).sum() * 1. / len(output)\n",
    "    print('Error: %1.4f' % error)\n",
    "    return error"
   ]
  },
  {
   "cell_type": "code",
   "execution_count": 10,
   "metadata": {},
   "outputs": [
    {
     "name": "stdout",
     "output_type": "stream",
     "text": [
      "Error: 0.0238\n",
      "Error: 0.0213\n",
      "Error: 0.0037\n",
      "Error: 0.0025\n",
      "Error: 0.0000\n",
      "Error: 0.0000\n"
     ]
    },
    {
     "data": {
      "image/png": "[encoded data removed]",
      "text/plain": [
       "<Figure size 432x288 with 1 Axes>"
      ]
     },
     "metadata": {
      "needs_background": "light"
     },
     "output_type": "display_data"
    }
   ],
   "source": [
    "def main():\n",
    "    sizes = [50, 100, 200, 400, 800, 1400]\n",
    "    errors = []\n",
    "    testMatrix, tokenlist, testCategory = readMatrix(\n",
    "        './data/spam_data/MATRIX.TEST')\n",
    "    for size in sizes:\n",
    "        trainMatrix, tokenlist, trainCategory = readMatrix(\n",
    "        './data/spam_data/MATRIX.TRAIN.' + str(size))\n",
    "        state = svm_train(trainMatrix, trainCategory)\n",
    "        output = svm_test(testMatrix, state)\n",
    "        error = evaluate(output, testCategory)\n",
    "        errors.append(error)\n",
    "    \n",
    "    # plot\n",
    "    plt.plot(sizes, errors)\n",
    "    plt.title('Different traning set sizes and their test error')\n",
    "    plt.xlabel('Size')\n",
    "    plt.ylabel('Test error')\n",
    "    return\n",
    "\n",
    "if __name__ == '__main__':\n",
    "    main()"
   ]
  },
  {
   "cell_type": "markdown",
   "metadata": {},
   "source": [
    "#### (e)"
   ]
  },
  {
   "cell_type": "markdown",
   "metadata": {},
   "source": [
    "For NB, the function of generalization error and training set size first increase when the traning set size increase, and then start to decrease.  \n",
    "For SVM, the function is monotonic decreasing."
   ]
  },
  {
   "cell_type": "markdown",
   "metadata": {},
   "source": [
    "Also, the generalization error of NB is higher than that of SVM."
   ]
  },
  {
   "cell_type": "code",
   "execution_count": null,
   "metadata": {},
   "outputs": [],
   "source": []
  }
 ],
 "metadata": {
  "kernelspec": {
   "display_name": "Python 3",
   "language": "python",
   "name": "python3"
  },
  "language_info": {
   "codemirror_mode": {
    "name": "ipython",
    "version": 3
   },
   "file_extension": ".py",
   "mimetype": "text/x-python",
   "name": "python",
   "nbconvert_exporter": "python",
   "pygments_lexer": "ipython3",
   "version": "3.6.7"
  }
 },
 "nbformat": 4,
 "nbformat_minor": 2
}
