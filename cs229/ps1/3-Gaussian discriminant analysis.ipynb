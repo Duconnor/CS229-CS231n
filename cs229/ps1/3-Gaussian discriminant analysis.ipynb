{
 "cells": [
  {
   "cell_type": "markdown",
   "metadata": {},
   "source": [
    "# CS229, Fall 2017\n",
    "## Problem Set 1: Supervised Learning\n",
    "### 3. Gaussian discriminant analysis"
   ]
  },
  {
   "cell_type": "markdown",
   "metadata": {},
   "source": [
    "#### (a)\n",
    "After we fit the parameters, we can write $p(y=1|x)$ by using Bayes' Rule:\n",
    "$$p(y=1|x)=\\frac{p(x|y=1)p(y=1)}{p(x|y=-1)p(y=-1)+p(x|y=1)p(y=1)}$$\n",
    "\n",
    "By substituing formulers in the above equation and simplify it, we have:\n",
    "\n",
    "\\begin{align*}\n",
    "p(y=1|x)\n",
    "&=\\frac{p(x|y=1)p(y=1)}{p(x|y=-1)p(y=-1)+p(x|y=1)p(y=1)}\\\\\n",
    "&=\\frac{1}{1+e^{\\ln\\frac{1-\\phi}{\\phi} + \\frac{1}{2} (x-\\mu_1)^{\\mathrm T}\\Sigma^{-1}(x-\\mu_1)-(x-\\mu_{-1})^{\\mathrm T}\\Sigma^{-1}(x-\\mu_{-1})}}\n",
    "\\end{align*}\n",
    "where for:\n",
    "\\begin{align*}\n",
    "(x-\\mu_1)^{\\mathrm T}\\Sigma^{-1}(x-\\mu_1)-(x-\\mu_{-1})^{\\mathrm T}\\Sigma^{-1}(x-\\mu_{-1})\n",
    "&=\\sum_ia_i^2\\sum_jc_{ij}-\\sum_ib_i^2\\sum_jc_{ij}\n",
    "\\end{align*}\n",
    "The above $a_i, b_i,c_{ij}$ stands for elements in $x-\\mu_1,x-\\mu_{-1},\\Sigma^{-1}$ respectively.\n",
    "\n",
    "We can further write the above equation to:\n",
    "\\begin{align*}\n",
    "\\sum_i\\bigg(a_i^2\\sum_jc_{ij}\\bigg)-\\sum_i\\bigg(b_i^2\\sum_jc_{ij}\\bigg)\n",
    "&=\\sum_i\\bigg((2x_i-\\mu_i^{1}-\\mu_i^{-1})(\\mu_i^{1}-\\mu_i^{-1})\\sum_jc_{ij}\\bigg)\\\\\n",
    "&=\\sum_i\\bigg(\\bigg((2x_i(\\mu_i^{1}-\\mu_i^{-1}))-(\\mu_i^{1}+\\mu_i^{-1})(\\mu_i^{1}-\\mu_i^{-1})\\bigg)\\sum_jc_{ij}\\bigg)\\\\\n",
    "\\end{align*}\n",
    "where in the above equation $\\sum_i\\bigg((2x_i(\\mu_i^{1}-\\mu_i^{-1}))\\sum_jc_{ij}\\bigg)$ can be view as $\\theta^{\\mathrm T}x$, where $\\theta$ is some function of $\\Sigma, \\mu_1,\\mu_{-1}$, the latter term $\\sum_i\\bigg((\\mu_i^{1}+\\mu_i^{-1})(\\mu_i^{1}-\\mu_i^{-1})\\sum_jc_{ij}\\bigg)$, together with $\\ln\\frac{1-\\phi}{\\phi}$, can be view as $\\theta_0$, a function of $\\mu_1,\\mu_{-1},\\Sigma,\\phi$.\n",
    "\n",
    "So now we know that $p(y=1|x)$ can be written in the form like:\n",
    "$$p(y=1|x)=\\frac{1}{1+e^{\\theta^{\\mathrm T}x+\\theta_0}}$$\n",
    "We can also show for $p(y=-1|x)$, it has the similar form of:\n",
    "$$p(y=-1|x)=\\frac{1}{1+e^{-\\theta^{\\mathrm T}x-\\theta_0}}$$\n",
    "Because $y^{i}\\in\\{-1,1\\}$, it it not hard to verify that:\n",
    "$$p(y|x)=\\frac{1}{1+e^{y(\\theta^{\\mathrm T}x-\\theta_0)}}$$"
   ]
  },
  {
   "cell_type": "markdown",
   "metadata": {},
   "source": [
    "#### (2)\n",
    "We can write $\\ell(\\phi, \\mu_{-1},\\mu{1},\\Sigma)$ is the form:\n",
    "\\begin{align*}\n",
    "\\ell(\\phi, \\mu_{-1},\\mu{1},\\Sigma)\n",
    "&=\\sum_{i}^{m}\\log\\bigg(p(x|y=-1)^{\\frac{1-y}{2}}p(x|y=1)^{\\frac{1+y}{2}}\\phi^{\\frac{1+y}{2}}(1-\\phi)^{\\frac{1-y}{2}}\\bigg)\n",
    "\\end{align*}\n",
    "* For $\\phi$, we have:\n",
    "\\begin{align*}\n",
    "\\frac{\\partial \\ell}{\\partial \\phi}\n",
    "&=\\sum_i^m\\bigg(\\frac{y^{(i)}-1}{2-2\\phi}+\\frac{1+y^{(i)}}{2\\phi}\\bigg)\\\\\n",
    "&=\\sum_i^m\\bigg(\\frac{1+y+2\\phi}{2\\phi-2\\phi^2}\\bigg)\n",
    "\\end{align*}\n",
    "Set the above derivative equals to zero, we have:\n",
    "$$\\frac{1}{2}+\\frac{\\sum_i^m y^{(i)}}{2m}=0$$\n",
    "If we let the number of positive examples be $a$ and the number of negative examples be $b$, we now have:\n",
    "\\begin{align*}\n",
    "a+b=m\n",
    "\\end{align*}\n",
    "Thus, we have:\n",
    "$$\\phi=\\frac{1}{2}+\\frac{\\sum_i^m y^{(i)}}{2m}=\\frac{1+\\frac{1}{a+b}(a-b)}{2}=\\frac{a}{m}=\\frac{1}{m}\\sum_i^m 1\\{y^{(i)}=1\\}$$\n",
    "* For $\\mu_{-1}$, we have:\n",
    "\\begin{align*}\n",
    "\\frac{\\partial \\ell}{\\partial \\mu_{-1}}\n",
    "&=\\sum_i^m\\bigg(\\frac{1-y^{(i)}}{2}\\frac{-1}{\\sigma^2}(\\mu_{-1}-x^{(i)})\\bigg)\\\\\n",
    "\\end{align*}\n",
    "Set the above derivative to zero, we have:\n",
    "$$\\sum_i^{m}(\\mu_{-1}-x^{(i)})\\frac{1-y^{(i)}}{2}=0$$\n",
    "then we have:\n",
    "$$\\mu_{-1}=\\frac{\\sum_i^m\\frac{1-y^{(i)}}{2}x^{(i)}}{\\sum_i^m\\frac{1-y^{(i)}}{2}}$$\n",
    "It is not hard to prove that $\\sum_i^m\\frac{1-y^{(i)}}{2}=\\sum_i^m1\\{y^{(i)}=-1\\}$  \n",
    "Thus, we have:\n",
    "$$\\mu_{-1}=\\frac{\\sum_i^m1\\{y^{(i)}=-1\\}x^{(i)}}{\\sum_i^m1\\{y^{(i)}=-1\\}}$$\n",
    "* For $\\mu_{1}$, it is similar to the above derivation, so I will just skip here.\n",
    "* For $\\Sigma$, we have:\n",
    "\\begin{align*}\n",
    "\\frac{\\partial \\ell}{\\partial \\Sigma}&=\\\\\n",
    "&=\\sum_i^m\\bigg(\\frac{1-y}{2}\\bigg(-\\frac{1}{\\sigma}+\\frac{1}{\\sigma^3}(x-\\mu_{-1})^{\\mathrm T}(x-\\mu_{-1})\\bigg)+\\frac{1+y}{2}\\bigg(-\\frac{1}{\\sigma}+\\frac{1}{\\sigma^3}(x-\\mu_{1})^{\\mathrm T}(x-\\mu_{1})\\bigg)\\bigg)\n",
    "\\end{align*}\n",
    "Set the above derivative to zero, we have:\n",
    "\\begin{align*}\n",
    "-m\\sigma^2+\\sum_{i,y^{(i)}=1}^m(x-\\mu_{1})^{\\mathrm T}(x-\\mu_{1})+\\sum_{i,y^{(i)}=-1}^m(x-\\mu_{-1})^{\\mathrm T}(x-\\mu_{-1})=0\n",
    "\\end{align*}\n",
    "So we have:\n",
    "$$\\sigma^2=\\Sigma=\\frac{1}{m}\\sum_i^m(x^{(i)}-\\mu_{y^{(i)}})^{\\mathrm T}(x^{(i)}-\\mu_{y^{(i)}})$$\n",
    "Note, although it looks different from the formua presented in the question, because we assume $\\Sigma=\\sigma^2$ is a real number here, these two formulas are equivalent."
   ]
  },
  {
   "cell_type": "code",
   "execution_count": null,
   "metadata": {},
   "outputs": [],
   "source": []
  }
 ],
 "metadata": {
  "kernelspec": {
   "display_name": "Python 3",
   "language": "python",
   "name": "python3"
  },
  "language_info": {
   "codemirror_mode": {
    "name": "ipython",
    "version": 3
   },
   "file_extension": ".py",
   "mimetype": "text/x-python",
   "name": "python",
   "nbconvert_exporter": "python",
   "pygments_lexer": "ipython3",
   "version": "3.6.7"
  }
 },
 "nbformat": 4,
 "nbformat_minor": 2
}
