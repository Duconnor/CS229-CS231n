{
 "cells": [
  {
   "cell_type": "markdown",
   "metadata": {},
   "source": [
    "# CS229, Fall 2017\n",
    "## Problem Set 1: Supervised Learning\n",
    "### 4. Linear invariance of optimization algorithms"
   ]
  },
  {
   "cell_type": "markdown",
   "metadata": {},
   "source": [
    "#### (a)\n",
    "Without loss of generality, we assume the learning rate $\\alpha=1$ here. We will use mathmatical induction to prove this.  \n",
    "Basis: $z^{(0)}=A^{-1}x^{(0)}=\\bf 0$  \n",
    "I.H.: Assuming $z^{(i)}=A^{-1}x^{(i)}$  \n",
    "I.S.: For $i+1$, by Newton's method, we have:\n",
    "\\begin{align*}\n",
    "x^{(i+1)}=x^{(i)}-H_x^{-1}\\nabla_xf\\\\\n",
    "z^{(i+1)}=z^{(i)}-H_z^{-1}\\nabla_zg\\\\\n",
    "\\end{align*}\n",
    "By using I.H. and chain rules of derivative, we have $g(z)=f(Az)=f(x)$. Substituting it in the above equation, we have:\n",
    "\\begin{align*}\n",
    "z^{(i+1)}\n",
    "&=z^{(i)}-\\frac{\\frac{d g}{d z^{(i)}}}{\\frac{d^2g}{d{z^{(i)}}^2}}\\\\\n",
    "&=A^{-1}x^{(i)}-\\frac{\\frac{d f}{d x^{(i)}}\\frac{dx^{(i)}}{dz^{(i)}}}{\\frac{d^2 f}{d {x^{(i)}}^2}(\\frac{d{x^{(i)}}}{d{z^{(i)}}})^2+\\frac{df}{dx^{(i)}}\\frac{d^2x^{(i)}}{d{z^{(i)}}^2}}\\\\\n",
    "&=A^{-1}x^{(i)}-\\frac{A}{A^2}\\frac{\\frac{d f}{d x^{(i)}}}{\\frac{d^2f}{d{x^{(i)}}^2}}\\\\\n",
    "&=A^{-1}x^{(i)}-(A^2H_x)^{-1}A\\nabla_xf\\\\\n",
    "&=A^{-1}(x^{(i)}-H_x^{-1}\\nabla_xf)\\\\\n",
    "&=A^{-1}x^{(i+1)}\n",
    "\\end{align*}"
   ]
  },
  {
   "cell_type": "markdown",
   "metadata": {},
   "source": [
    "#### (b)\n",
    "Gradient descent is not invariant to linear reparameterizations.\n",
    "\n",
    "Proof:  \n",
    "For gradient descent, still we assume learning rate $\\alpha=1$, the update rule is:\n",
    "$$x^{(i+1)}=x^{(i)}-\\nabla_xf$$\n",
    "Using the same way above, we have:\n",
    "\\begin{align*}\n",
    "z^{(i+1)}\n",
    "&=z^{(i)}-\\nabla_xg\\\\\n",
    "&=A^{-1}x^{(i)}-A\\nabla_xf\\\\\n",
    "&\\ne A^{-1}x^{(i+1)}\n",
    "\\end{align*}"
   ]
  },
  {
   "cell_type": "code",
   "execution_count": null,
   "metadata": {},
   "outputs": [],
   "source": []
  }
 ],
 "metadata": {
  "kernelspec": {
   "display_name": "Python 3",
   "language": "python",
   "name": "python3"
  },
  "language_info": {
   "codemirror_mode": {
    "name": "ipython",
    "version": 3
   },
   "file_extension": ".py",
   "mimetype": "text/x-python",
   "name": "python",
   "nbconvert_exporter": "python",
   "pygments_lexer": "ipython3",
   "version": "3.6.7"
  }
 },
 "nbformat": 4,
 "nbformat_minor": 2
}
