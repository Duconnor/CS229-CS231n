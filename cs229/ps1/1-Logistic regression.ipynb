{
 "cells": [
  {
   "cell_type": "markdown",
   "metadata": {},
   "source": [
    "# CS229, Fall 2017\n",
    "\n",
    "## Problem Set 1: Supervised Learning\n",
    "### 1. Logistic regression"
   ]
  },
  {
   "cell_type": "markdown",
   "metadata": {},
   "source": [
    "#### (a)\n",
    "The key point in linear regression and logistic regression is likelihood. Here is my understanding of what likelihood actually means here.  \n",
    "Consider the way we get our training data as one sampling. Let's call it event A.  \n",
    "The likelihood is the probability of event A to happen under paramater $\\theta$, so what we want to do is to find appropriate $\\theta$ so we can maximize this probabilty.  \n",
    "This is true because we assume that, the result of our sample has the highest probability to happen, so we can get this result (here is the training data)."
   ]
  },
  {
   "cell_type": "markdown",
   "metadata": {},
   "source": [
    "##### Solution\n",
    "First, we have:\n",
    "$$(x^{\\mathrm T}z)^2=(\\sum_iz_ix_i)\\times(\\sum_jx_jz_j)=\\sum_{i}\\sum_{j}z_ix_ix_jz_j\\ge 0$$\n",
    "Also, calculating the second derivative of $J(\\theta)$ yields:\n",
    "$$\\frac{\\partial J(\\theta)}{\\partial \\theta_i \\theta_j}=\\frac{1}{m}\\bigg(\\sum_k \\frac{e^{a^{(k)}}}{(1+e^{a^{(k)}})^2}{y^{(k)}}^2x^{(k)}_ix^{(k)}_j\\bigg)$$\n",
    "where $a^{(i)}=y^{(i)}\\theta^{\\mathrm T}x^{(i)}$  \n",
    "So for any vector z, we have:\n",
    "$$z^{\\mathrm T}Hz=\\sum_i\\sum_jz_i\\frac{\\partial J(\\theta)}{\\partial \\theta_i \\theta_j}z_j=\\frac{1}{m}\\bigg(\\sum_i\\sum_j\\sum_k \\frac{e^{a^{(k)}}}{(1+e^{a^{(k)}})^2}{y^{(k)}}^2z_ix^{(k)}_ix^{(k)}_jz_j\\bigg)\\\\=\\frac{1}{m}\\sum_k \\frac{e^{a^{(k)}}}{(1+e^{a^{(k)}})^2}{y^{(k)}}^2\\bigg(\\sum_i\\sum_jz_ix^{(k)}_ix^{(k)}_jz_j\\bigg)$$\n",
    "the last part of the above term, accroding to what we have proved above, is always greater that or equal to zero. So it is quite obivous that $z^{\\mathrm T}Hz\\ge 0$"
   ]
  },
  {
   "cell_type": "markdown",
   "metadata": {},
   "source": [
    "#### (b)\n",
    "First, we implement Newton's method"
   ]
  },
  {
   "cell_type": "code",
   "execution_count": 1,
   "metadata": {},
   "outputs": [],
   "source": [
    "import numpy as np\n",
    "\n",
    "\n",
    "def sigmoid(z):\n",
    "    ''' return the result of sigmoid function in matrix form '''\n",
    "    return 1 / (1 + np.exp(-z))\n",
    "\n",
    "\n",
    "def cal_cost(theta, X, y):\n",
    "    ''' return the value of cost function defining is this problem '''\n",
    "    m = X.shape[0]\n",
    "    h = sigmoid((X @ theta) * y)\n",
    "    return (-1 / m) * np.sum(np.log(h), 0)\n",
    "\n",
    "\n",
    "def cal_gradient(theta, X, y):\n",
    "    ''' return the gradient (first derivative) '''\n",
    "    m = X.shape[0]\n",
    "    h = sigmoid((X @ theta) * y)\n",
    "    return (-1 / m) * (((1 - h) * y).T @ X).T\n",
    "\n",
    "\n",
    "def cal_Hessian(theta, X, y):\n",
    "    ''' return the Hessian matrix (second derivative) '''\n",
    "    m = X.shape[0]\n",
    "    h = sigmoid((X @ theta) * y)\n",
    "    y = (y * y * h * h) / np.exp((X @ theta) * y)\n",
    "    y = np.c_[y]\n",
    "    return (1 / m) * (X.T @ (X * y))\n",
    "\n",
    "\n",
    "def Newton_method(initial_theta, X, y, maxiter, alpha):\n",
    "    m = X.shape[0]  # m is the number of samples in the training set\n",
    "    theta = initial_theta\n",
    "\n",
    "    # Get J(theta)\n",
    "    cost = cal_cost(theta=theta, X=X, y=y)\n",
    "    count = 0\n",
    "\n",
    "    while count < maxiter:\n",
    "        count = count + 1\n",
    "        print('cost: %f' % cost)\n",
    "        # There are two things to calculate\n",
    "        # First, try to calculate the gradient\n",
    "        gradient = cal_gradient(theta=theta, X=X, y=y)\n",
    "\n",
    "        # Second, try to calculate the Hessian matrix\n",
    "        Hessian = cal_Hessian(theta=theta, X=X, y=y)\n",
    "\n",
    "        # Update the value of theta\n",
    "        theta = theta - alpha * (np.linalg.inv(Hessian) @ gradient)\n",
    "\n",
    "        # Update cost\n",
    "        cost_t = cal_cost(theta=theta, X=X, y=y)\n",
    "        if np.abs(cost_t - cost) < 0.0000001:\n",
    "            break\n",
    "        else:\n",
    "            cost = cost_t\n",
    "\n",
    "    return theta"
   ]
  },
  {
   "cell_type": "markdown",
   "metadata": {},
   "source": [
    "#### (c)\n",
    "Next, we read in the data and visualize it"
   ]
  },
  {
   "cell_type": "code",
   "execution_count": 10,
   "metadata": {},
   "outputs": [
    {
     "name": "stdout",
     "output_type": "stream",
     "text": [
      "cost: 0.693147\n",
      "cost: 0.639750\n",
      "cost: 0.595983\n",
      "cost: 0.559416\n",
      "cost: 0.528436\n",
      "cost: 0.501922\n",
      "cost: 0.479061\n",
      "cost: 0.459244\n",
      "cost: 0.442002\n",
      "cost: 0.426962\n",
      "cost: 0.413826\n",
      "cost: 0.402344\n",
      "cost: 0.392310\n",
      "cost: 0.383547\n",
      "cost: 0.375901\n",
      "cost: 0.369241\n",
      "cost: 0.363450\n",
      "cost: 0.358425\n",
      "cost: 0.354076\n",
      "cost: 0.350320\n",
      "cost: 0.347085\n",
      "cost: 0.344307\n",
      "cost: 0.341927\n",
      "cost: 0.339895\n",
      "cost: 0.338165\n",
      "cost: 0.336696\n",
      "cost: 0.335452\n",
      "cost: 0.334402\n",
      "cost: 0.333517\n",
      "cost: 0.332775\n",
      "cost: 0.332153\n",
      "cost: 0.331633\n",
      "cost: 0.331200\n",
      "cost: 0.330839\n",
      "cost: 0.330540\n",
      "cost: 0.330293\n",
      "cost: 0.330088\n",
      "cost: 0.329918\n",
      "cost: 0.329779\n",
      "cost: 0.329664\n",
      "cost: 0.329570\n",
      "cost: 0.329493\n",
      "cost: 0.329429\n",
      "cost: 0.329377\n",
      "cost: 0.329335\n",
      "cost: 0.329300\n",
      "cost: 0.329272\n",
      "cost: 0.329249\n",
      "cost: 0.329230\n",
      "cost: 0.329214\n",
      "cost: 0.329202\n",
      "cost: 0.329192\n",
      "cost: 0.329183\n",
      "cost: 0.329177\n",
      "cost: 0.329171\n",
      "cost: 0.329167\n",
      "cost: 0.329163\n",
      "cost: 0.329160\n",
      "cost: 0.329158\n",
      "cost: 0.329156\n",
      "cost: 0.329154\n",
      "cost: 0.329153\n",
      "cost: 0.329152\n",
      "cost: 0.329151\n",
      "cost: 0.329150\n",
      "cost: 0.329150\n",
      "cost: 0.329149\n",
      "cost: 0.329149\n",
      "cost: 0.329149\n",
      "cost: 0.329148\n",
      "cost: 0.329148\n",
      "cost: 0.329148\n",
      "cost: 0.329148\n",
      "cost: 0.329148\n",
      "[ 0.75928884  1.17008768 -2.61676838]\n"
     ]
    },
    {
     "data": {
      "image/png": "[encoded data removed]",
      "text/plain": [
       "<Figure size 432x288 with 1 Axes>"
      ]
     },
     "metadata": {
      "needs_background": "light"
     },
     "output_type": "display_data"
    }
   ],
   "source": [
    "import matplotlib.pyplot as plt\n",
    "\n",
    "X = np.loadtxt('./data/logistic_x.txt')\n",
    "y = np.loadtxt('./data/logistic_y.txt')\n",
    "\n",
    "data = np.c_[X, y]\n",
    "\n",
    "pos = data[data[:, -1] == 1]\n",
    "neg = data[data[:, -1] == -1]\n",
    "\n",
    "# Training the model\n",
    "X = np.c_[X, np.ones(X.shape[0])]\n",
    "initial_theta = np.zeros(X.shape[1])\n",
    "theta = Newton_method(initial_theta=initial_theta, X=X, y=y, maxiter=200, alpha=0.1)\n",
    "print(theta)\n",
    "# Visualize the result\n",
    "minx = X[:, 0:1].min(0)\n",
    "maxx = X[:, 0:1].max(0)\n",
    "x = np.linspace(minx, maxx, 50)\n",
    "plt.scatter(pos[:, 0], pos[:, 1], c='r')\n",
    "plt.scatter(neg[:, 0], neg[:, 1], c='b')\n",
    "plt.plot(x, -theta[0]/theta[1]*x-theta[2], 'y')\n",
    "plt.show()\n"
   ]
  },
  {
   "cell_type": "code",
   "execution_count": null,
   "metadata": {},
   "outputs": [],
   "source": []
  }
 ],
 "metadata": {
  "kernelspec": {
   "display_name": "Python 3",
   "language": "python",
   "name": "python3"
  },
  "language_info": {
   "codemirror_mode": {
    "name": "ipython",
    "version": 3
   },
   "file_extension": ".py",
   "mimetype": "text/x-python",
   "name": "python",
   "nbconvert_exporter": "python",
   "pygments_lexer": "ipython3",
   "version": "3.6.7"
  }
 },
 "nbformat": 4,
 "nbformat_minor": 2
}
