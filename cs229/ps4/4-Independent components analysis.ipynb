{
 "cells": [
  {
   "cell_type": "markdown",
   "metadata": {},
   "source": [
    "# CS229, Fall 2017\n",
    "## Problem Set 4: EM, DL & RL\n",
    "### 4. Independent components analysis"
   ]
  },
  {
   "cell_type": "markdown",
   "metadata": {},
   "source": [
    "ICA's problem setting is that, we have $n$ people speaking simultaneously, and each one of them have a microphone in front of them, recording their voices. However, because they are speaking at the same time, therefore, the $n$ microphones will each record a mixture of these $n$ people's voices.  \n",
    "\n",
    "The data set is given by $x = \\{x^{(1)},x^{(2)},\\dots, x^{(m)}\\}$, where each $x^{(i)}$ is the audio observed at time $i$ and has dimension $n$ (because there are $n$ microphones (people)). And the unmixing matrix will be applied to $x^{(i)}$ in order to unmix the sources. **Not to each microphone's recording!**"
   ]
  },
  {
   "cell_type": "code",
   "execution_count": 1,
   "metadata": {},
   "outputs": [],
   "source": [
    "### Independent Components Analysis\n",
    "###\n",
    "### This program requires a working installation of:\n",
    "###\n",
    "### On Mac:\n",
    "###     1. portaudio: On Mac: brew install portaudio\n",
    "###     2. sounddevice: pip install sounddevice\n",
    "###\n",
    "### On windows:\n",
    "###      pip install pyaudio sounddevice\n",
    "###\n",
    "\n",
    "import sounddevice as sd\n",
    "import numpy as np\n",
    "\n",
    "Fs = 11025\n",
    "\n",
    "def normalize(dat):\n",
    "    return 0.99 * dat / np.max(np.abs(dat))\n",
    "\n",
    "def load_data():\n",
    "    mix = np.loadtxt('./data/mix.dat')\n",
    "    return mix\n",
    "\n",
    "def play(vec):\n",
    "    sd.play(vec, Fs, blocking=True)"
   ]
  },
  {
   "cell_type": "code",
   "execution_count": 2,
   "metadata": {},
   "outputs": [],
   "source": [
    "def sigmoid(X):\n",
    "    s = 1 / (1 + np.exp(-X))\n",
    "    return s"
   ]
  },
  {
   "cell_type": "code",
   "execution_count": 34,
   "metadata": {},
   "outputs": [],
   "source": [
    "def unmixer(X):\n",
    "    M, N = X.shape\n",
    "    W = np.eye(N)\n",
    "\n",
    "    anneal = [0.1, 0.1, 0.1, 0.05, 0.05, 0.05, 0.02, 0.02, 0.01, 0.01,\n",
    "              0.005, 0.005, 0.002, 0.002, 0.001, 0.001]\n",
    "    print('Separating tracks ...')\n",
    "    ######## Your code here ##########\n",
    "    # Shuffle X to get random data\n",
    "    temp_X = np.array(X)\n",
    "    for learning_rate in anneal:\n",
    "        print('Using learning rate %f' %learning_rate)\n",
    "        for x_i in temp_X:\n",
    "            x_i = x_i.reshape(-1, 1)\n",
    "            W = W + learning_rate * (np.dot((1 - 2 * sigmoid(np.dot(W, x_i).reshape(-1, 1))), x_i.T) + np.linalg.inv(W.T))\n",
    "    ###################################\n",
    "    return W\n",
    "\n",
    "def unmix(X, W):\n",
    "    S = np.zeros(X.shape)\n",
    "\n",
    "    ######### Your code here ##########\n",
    "    S = np.dot(W, X.T).T\n",
    "    ##################################\n",
    "    return S"
   ]
  },
  {
   "cell_type": "code",
   "execution_count": 35,
   "metadata": {},
   "outputs": [],
   "source": [
    "def main():\n",
    "    X = normalize(load_data())\n",
    "\n",
    "    for i in range(X.shape[1]):\n",
    "        print('Playing mixed track %d' % i)\n",
    "        play(X[:, i])\n",
    "\n",
    "    W = unmixer(X)\n",
    "    S = normalize(unmix(X, W))\n",
    "\n",
    "    for i in range(S.shape[1]):\n",
    "        print('Playing separated track %d' % i)\n",
    "        play(S[:, i])"
   ]
  },
  {
   "cell_type": "code",
   "execution_count": 36,
   "metadata": {},
   "outputs": [
    {
     "name": "stdout",
     "output_type": "stream",
     "text": [
      "Playing mixed track 0\n",
      "Playing mixed track 1\n",
      "Playing mixed track 2\n",
      "Playing mixed track 3\n",
      "Playing mixed track 4\n",
      "Separating tracks ...\n",
      "Using learning rate 0.100000\n",
      "Using learning rate 0.100000\n",
      "Using learning rate 0.100000\n",
      "Using learning rate 0.050000\n",
      "Using learning rate 0.050000\n",
      "Using learning rate 0.050000\n",
      "Using learning rate 0.020000\n",
      "Using learning rate 0.020000\n",
      "Using learning rate 0.010000\n",
      "Using learning rate 0.010000\n",
      "Using learning rate 0.005000\n",
      "Using learning rate 0.005000\n",
      "Using learning rate 0.002000\n",
      "Using learning rate 0.002000\n",
      "Using learning rate 0.001000\n",
      "Using learning rate 0.001000\n",
      "Playing separated track 0\n",
      "Playing separated track 1\n",
      "Playing separated track 2\n",
      "Playing separated track 3\n",
      "Playing separated track 4\n"
     ]
    }
   ],
   "source": [
    "if __name__ == '__main__':\n",
    "    main()"
   ]
  }
 ],
 "metadata": {
  "kernelspec": {
   "display_name": "Python 3",
   "language": "python",
   "name": "python3"
  },
  "language_info": {
   "codemirror_mode": {
    "name": "ipython",
    "version": 3
   },
   "file_extension": ".py",
   "mimetype": "text/x-python",
   "name": "python",
   "nbconvert_exporter": "python",
   "pygments_lexer": "ipython3",
   "version": "3.7.4"
  }
 },
 "nbformat": 4,
 "nbformat_minor": 4
}
