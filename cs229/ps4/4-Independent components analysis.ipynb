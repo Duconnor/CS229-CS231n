{
 "cells": [
  {
   "cell_type": "markdown",
   "metadata": {},
   "source": [
    "# CS229, Fall 2017\n",
    "## Problem Set 4: EM, DL & RL\n",
    "### 4. Independent components analysis"
   ]
  },
  {
   "cell_type": "code",
   "execution_count": 1,
   "metadata": {},
   "outputs": [
    {
     "ename": "ModuleNotFoundError",
     "evalue": "No module named 'sounddevice'",
     "output_type": "error",
     "traceback": [
      "\u001b[0;31m---------------------------------------------------------------------------\u001b[0m",
      "\u001b[0;31mModuleNotFoundError\u001b[0m                       Traceback (most recent call last)",
      "\u001b[0;32m<ipython-input-1-768de1b6a233>\u001b[0m in \u001b[0;36m<module>\u001b[0;34m\u001b[0m\n\u001b[1;32m     11\u001b[0m \u001b[0;31m###\u001b[0m\u001b[0;34m\u001b[0m\u001b[0;34m\u001b[0m\u001b[0;34m\u001b[0m\u001b[0m\n\u001b[1;32m     12\u001b[0m \u001b[0;34m\u001b[0m\u001b[0m\n\u001b[0;32m---> 13\u001b[0;31m \u001b[0;32mimport\u001b[0m \u001b[0msounddevice\u001b[0m \u001b[0;32mas\u001b[0m \u001b[0msd\u001b[0m\u001b[0;34m\u001b[0m\u001b[0;34m\u001b[0m\u001b[0m\n\u001b[0m\u001b[1;32m     14\u001b[0m \u001b[0;32mimport\u001b[0m \u001b[0mnumpy\u001b[0m \u001b[0;32mas\u001b[0m \u001b[0mnp\u001b[0m\u001b[0;34m\u001b[0m\u001b[0;34m\u001b[0m\u001b[0m\n\u001b[1;32m     15\u001b[0m \u001b[0;34m\u001b[0m\u001b[0m\n",
      "\u001b[0;31mModuleNotFoundError\u001b[0m: No module named 'sounddevice'"
     ]
    }
   ],
   "source": [
    "### Independent Components Analysis\n",
    "###\n",
    "### This program requires a working installation of:\n",
    "###\n",
    "### On Mac:\n",
    "###     1. portaudio: On Mac: brew install portaudio\n",
    "###     2. sounddevice: pip install sounddevice\n",
    "###\n",
    "### On windows:\n",
    "###      pip install pyaudio sounddevice\n",
    "###\n",
    "\n",
    "import sounddevice as sd\n",
    "import numpy as np\n",
    "\n",
    "Fs = 11025\n",
    "\n",
    "def normalize(dat):\n",
    "    return 0.99 * dat / np.max(np.abs(dat))\n",
    "\n",
    "def load_data():\n",
    "    mix = np.loadtxt('mix.dat')\n",
    "    return mix\n",
    "\n",
    "def play(vec):\n",
    "    sd.play(vec, Fs, blocking=True)\n",
    "\n",
    "def unmixer(X):\n",
    "    M, N = X.shape\n",
    "    W = np.eye(N)\n",
    "\n",
    "    anneal = [0.1, 0.1, 0.1, 0.05, 0.05, 0.05, 0.02, 0.02, 0.01, 0.01,\n",
    "              0.005, 0.005, 0.002, 0.002, 0.001, 0.001]\n",
    "    print('Separating tracks ...')\n",
    "    ######## Your code here ##########\n",
    "\n",
    "    ###################################\n",
    "    return W\n",
    "\n",
    "def unmix(X, W):\n",
    "    S = np.zeros(X.shape)\n",
    "\n",
    "    ######### Your code here ##########\n",
    "\n",
    "    ##################################\n",
    "    return S\n",
    "\n",
    "def main():\n",
    "    X = normalize(load_data())\n",
    "\n",
    "    for i in range(X.shape[1]):\n",
    "        print('Playing mixed track %d' % i)\n",
    "        play(X[:, i])\n",
    "\n",
    "    W = unmixer(X)\n",
    "    S = normalize(unmix(X, W))\n",
    "\n",
    "    for i in range(S.shape[1]):\n",
    "        print('Playing separated track %d' % i)\n",
    "        play(S[:, i])\n",
    "\n",
    "if __name__ == '__main__':\n",
    "    main()\n",
    "\n"
   ]
  },
  {
   "cell_type": "code",
   "execution_count": null,
   "metadata": {},
   "outputs": [],
   "source": []
  }
 ],
 "metadata": {
  "kernelspec": {
   "display_name": "Python 3",
   "language": "python",
   "name": "python3"
  },
  "language_info": {
   "codemirror_mode": {
    "name": "ipython",
    "version": 3
   },
   "file_extension": ".py",
   "mimetype": "text/x-python",
   "name": "python",
   "nbconvert_exporter": "python",
   "pygments_lexer": "ipython3",
   "version": "3.6.7"
  }
 },
 "nbformat": 4,
 "nbformat_minor": 2
}
