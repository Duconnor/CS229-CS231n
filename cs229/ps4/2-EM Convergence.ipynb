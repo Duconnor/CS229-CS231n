{
 "cells": [
  {
   "cell_type": "markdown",
   "metadata": {},
   "source": [
    "# CS229, Fall 2017\n",
    "## Problem Set 4: EM, DL & RL\n",
    "### 2. EM Convergence"
   ]
  },
  {
   "cell_type": "markdown",
   "metadata": {},
   "source": [
    "When EM converges, we will have the same $\\theta^*$ returned at the M-step. Because in the M-step, the objective function has the following form:\n",
    "$$\n",
    "\\sum_i\\sum_{z^{(i)}}Q_i(z^{(i)})\\log\\frac{p(x^{(i)},z^{(i)};\\theta)}{Q_i(z^{(i)})}\n",
    "$$"
   ]
  },
  {
   "cell_type": "markdown",
   "metadata": {},
   "source": [
    "And because we have the same $\\theta^*$ returned, we have:\n",
    "$$\n",
    "\\nabla_\\theta\\bigg(\\sum_i\\sum_{z^{(i)}}Q_i(z^{(i)})\\log\\frac{p(x^{(i)},z^{(i)};\\theta^*)}{Q_i(z^{(i)})}\\bigg)=0\n",
    "$$\n",
    "Because in the E-step, we set $Q_i(z^{(i)})=p(z^{(i)}|x^{(i)};\\theta^{(t)})$ (note here that $Q_i(z^{(i)})$ is actually **a fixed constant, not some function of $\\theta$**)"
   ]
  },
  {
   "cell_type": "markdown",
   "metadata": {},
   "source": [
    "Therefore we have:\n",
    "\\begin{align*}\n",
    "\\nabla_\\theta\\bigg(\\sum_i\\sum_{z^{(i)}}Q_i(z^{(i)})\\log\\frac{p(x^{(i)},z^{(i)};\\theta^*)}{Q_i(z^{(i)})}\\bigg)&=\\nabla_\\theta\\bigg(\\sum_i\\sum_{z^{(i)}}\\big(Q_i(z^{(i)})\\log p(x^{(i)},z^{(i)};\\theta^*)-Q_i(z^{(i)})\\log Q_i(z^{(i)})\\big)\\bigg)\\\\\n",
    "&=\\nabla_\\theta\\bigg(\\sum_i\\sum_{z^{(i)}}Q_i(z^{(i)})\\log p(x^{(i)},z^{(i)};\\theta^*)\\bigg)\\\\\n",
    "&=\\sum_i\\sum_{z^{(i)}}Q_i(z^{(i)})\\frac{\\nabla_\\theta p(x^{(i)},z^{(i)};\\theta^*)}{p(x^{(i)},z^{(i)};\\theta^*)}\\\\\n",
    "&=\\sum_i \\nabla_\\theta \\log p(x^{(i)};\\theta)\\\\\n",
    "&=\\nabla_\\theta\\ell(\\theta)\\\\\n",
    "&=0\n",
    "\\end{align*}"
   ]
  },
  {
   "cell_type": "markdown",
   "metadata": {},
   "source": [
    "So we indeed have maximized (locally) the log-marginal of the data."
   ]
  }
 ],
 "metadata": {
  "kernelspec": {
   "display_name": "Python 3",
   "language": "python",
   "name": "python3"
  },
  "language_info": {
   "codemirror_mode": {
    "name": "ipython",
    "version": 3
   },
   "file_extension": ".py",
   "mimetype": "text/x-python",
   "name": "python",
   "nbconvert_exporter": "python",
   "pygments_lexer": "ipython3",
   "version": "3.6.7"
  }
 },
 "nbformat": 4,
 "nbformat_minor": 2
}
