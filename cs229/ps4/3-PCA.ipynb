{
 "cells": [
  {
   "cell_type": "markdown",
   "metadata": {},
   "source": [
    "# CS229, Fall 2017\n",
    "## Problem Set 4: EM, DL & RL\n",
    "### 3. PCA"
   ]
  },
  {
   "cell_type": "markdown",
   "metadata": {},
   "source": [
    "The projection matrix of projecting point $x$ onto the direction given by $u$ is:\n",
    "$$\n",
    "P_u = \\frac{uu^T}{u^Tu}\n",
    "$$"
   ]
  },
  {
   "cell_type": "markdown",
   "metadata": {},
   "source": [
    "Therefore, the mean squared error between projection points and original points are:\n",
    "$$\n",
    "\\sum_{i=1}^m||x^{(i)}-\\frac{uu^Tx^{(i)}}{u^Tu}||_2^2\n",
    "$$"
   ]
  },
  {
   "cell_type": "markdown",
   "metadata": {},
   "source": [
    "Therefore, the optimization problem can be written as:\n",
    "\\begin{align*}\n",
    "&\\arg\\min_{u:u^Tu=1}\\sum_{i=1}^m||x^{(i)}-\\frac{uu^Tx^{(i)}}{u^Tu}||_2^2\\\\\n",
    "=&\\arg\\min_{u:u^Tu=1}\\sum_{i=1}^m||x^{(i)}-u^Tx^{(i)}u||_2^2\\\\\n",
    "=&\\arg\\min_{u:u^Tu=1}\\sum_{i=1}^m\\bigg(||x^{(i)}||_2^2+||u^Tx^{(i)}u||_2^2 - 2{x^{(i)}}^T(u^Tx^{(i)}u)\\bigg)\\\\\n",
    "=&\\arg\\min_{u:u^Tu=1}\\sum_{i=1}^m\\bigg(||x^{(i)}||_2^2-||u^Tx^{(i)}u||_2^2\\bigg)\n",
    "\\end{align*}"
   ]
  },
  {
   "cell_type": "markdown",
   "metadata": {},
   "source": [
    "Note that the above last equality holds because according to the definition of dot product, we have:\n",
    "$$\n",
    "2{x^{(i)}}^T(u^Tx^{(i)}u)=2||u^Tx^{(i)}u||_2^2\n",
    "$$"
   ]
  },
  {
   "cell_type": "markdown",
   "metadata": {},
   "source": [
    "Because $x^{(i)}$ has nothing to do with $u$, therefore the optimization problem can be written as:\n",
    "\\begin{align*}\n",
    "&\\arg\\min_{u:u^Tu=1}\\sum_{i=1}^m||x^{(i)}-\\frac{uu^Tx^{(i)}}{u^Tu}||_2^2\\\\\n",
    "=&\\arg\\max_{u:u^Tu=1}\\sum_{i=1}^m|| u^Tx^{(i)}u ||_2^2\\\\\n",
    "=&\\arg\\max_{u:u^Tu=1}\\sum_{i=1}^m\\bigg( (u^Tx^{(i)}u)^T(u^Tx^{(i)}u) \\bigg)\\\\\n",
    "=&\\arg\\max_{u:u^Tu=1}u^T\\bigg(\\sum_{i=1}^m{x^{(i)}}{x^{(i)}}^T\\bigg)u\n",
    "\\end{align*}"
   ]
  },
  {
   "cell_type": "markdown",
   "metadata": {},
   "source": [
    "It is easy to see that the last equation is almost the same as the objective function in notes10 (the only difference is that there is no $\\frac{1}{m}$, which would affect our results). Therefore, it gives the first principal component."
   ]
  },
  {
   "cell_type": "code",
   "execution_count": null,
   "metadata": {},
   "outputs": [],
   "source": []
  }
 ],
 "metadata": {
  "kernelspec": {
   "display_name": "Python 3",
   "language": "python",
   "name": "python3"
  },
  "language_info": {
   "codemirror_mode": {
    "name": "ipython",
    "version": 3
   },
   "file_extension": ".py",
   "mimetype": "text/x-python",
   "name": "python",
   "nbconvert_exporter": "python",
   "pygments_lexer": "ipython3",
   "version": "3.6.7"
  }
 },
 "nbformat": 4,
 "nbformat_minor": 2
}
