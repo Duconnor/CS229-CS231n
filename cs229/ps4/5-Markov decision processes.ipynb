{
 "cells": [
  {
   "cell_type": "markdown",
   "metadata": {},
   "source": [
    "# CS229, Fall 2017\n",
    "## Problem Set 4: EM, DL & RL\n",
    "### 5. Markov decision processes"
   ]
  },
  {
   "cell_type": "markdown",
   "metadata": {},
   "source": [
    "#### (a)"
   ]
  },
  {
   "cell_type": "markdown",
   "metadata": {},
   "source": [
    "Because we have $V'=B(V)$, therefore:\n",
    "\\begin{align*}\n",
    "&|\\bigg(B(V_1)-B(V_2)\\bigg)(s)|\\\\\n",
    "=&|\\gamma \\bigg(\\max_{a\\in A}\\sum_{s'\\in S}P_{sa}(s')V_1(s')-\\max_{a\\in A}\\sum_{s' \\in S}P_{sa}(s')V_2(s')\\bigg)|\\\\\n",
    "\\le &\\gamma|\\max_{a\\in A}\\bigg(\\sum_{s'\\in S}P_{sa}(s')V_1(s')-\\sum_{s' \\in S}P_{sa}(s')V_2(s')\\bigg)|\\\\\n",
    "=&\\gamma|\\max_{a\\in A}\\bigg(\\sum_{s'\\in S}P_{sa}(s')\\big(V_1(s')-V_2(s')\\big)\\bigg)|\n",
    "\\end{align*}"
   ]
  },
  {
   "cell_type": "markdown",
   "metadata": {},
   "source": [
    "Note that the first inequality follows from that:\n",
    "\\begin{align*}\n",
    "f(a_1)-g(a_2)\\le f(a_1)-g(a_1)\\le \\max_{a}|f(a)-g(a)|\\\\\n",
    "g(a_2)-f(a_1)\\le g(a_2)-f(a_2)\\le \\max_{a}|f(a)-g(a)|\\\\\n",
    "\\end{align*}\n",
    "where $a_1=\\arg_a\\max f$ and $a_2=\\arg_a\\max g$  \n",
    "Therefore, we have:\n",
    "$$\n",
    "|\\max_af(a)-\\max_ag(a)|\\le \\max_a|f(a)-g(a)|\n",
    "$$"
   ]
  },
  {
   "cell_type": "markdown",
   "metadata": {},
   "source": [
    "Let $$s^*=\\arg_{s\\in S}\\max|V_1-V_2|$$\n",
    "we now have:\n",
    "\\begin{align*}\n",
    "&|\\bigg(B(V_1)-B(V_2)\\bigg)(s)|\\\\\n",
    "=&\\gamma|\\max_{a\\in A}\\bigg(\\sum_{s'\\in S}P_{sa}(s')\\big(V_1(s')-V_2(s')\\big)\\bigg)|\\\\\n",
    "\\le&\\gamma|V_1(s^*)-V_2(s^*)|\n",
    "\\end{align*}"
   ]
  },
  {
   "cell_type": "markdown",
   "metadata": {},
   "source": [
    "Therefore, we have:\n",
    "\\begin{align*}\n",
    "||B(V_1)-B(V_2)||_{\\infty}\\le \\gamma|V_1(s^*)-V_2(s^*)|=\\gamma||V_1-V_2||_{\\infty}\n",
    "\\end{align*}"
   ]
  },
  {
   "cell_type": "markdown",
   "metadata": {},
   "source": [
    "#### (b)"
   ]
  },
  {
   "cell_type": "markdown",
   "metadata": {},
   "source": [
    "We prove this by contradiction."
   ]
  },
  {
   "cell_type": "markdown",
   "metadata": {},
   "source": [
    "Assume there exist more than one fixed point of $B$. We may arbitrarily pick two of them, let's say $V_1$ and $V_2$."
   ]
  },
  {
   "cell_type": "markdown",
   "metadata": {},
   "source": [
    "According to the result above, we have:\n",
    "$$\n",
    "||B(V_1)-B(V_2)||_{\\infty}\\le \\gamma||V_1-V_2||_{\\infty}\n",
    "$$\n",
    "where $\\gamma < 1$."
   ]
  },
  {
   "cell_type": "markdown",
   "metadata": {},
   "source": [
    "Also, note that because $V_1$ and $V_2$ are fixed points, we have:\n",
    "$$\n",
    "B(V_1)=V_1, B(V_2)=V_2\n",
    "$$\n",
    "Therefore, we have:\n",
    "$$\n",
    "|||V_1-V_2||_{\\infty}\\le \\gamma ||V_1-V_2||_\\infty\n",
    "$$\n",
    "Because $\\gamma < 1$, it is a contradiction!"
   ]
  },
  {
   "cell_type": "markdown",
   "metadata": {},
   "source": [
    "Therefore, $B$ has at most one fixed point."
   ]
  }
 ],
 "metadata": {
  "kernelspec": {
   "display_name": "Python 3",
   "language": "python",
   "name": "python3"
  },
  "language_info": {
   "codemirror_mode": {
    "name": "ipython",
    "version": 3
   },
   "file_extension": ".py",
   "mimetype": "text/x-python",
   "name": "python",
   "nbconvert_exporter": "python",
   "pygments_lexer": "ipython3",
   "version": "3.7.4"
  }
 },
 "nbformat": 4,
 "nbformat_minor": 4
}
