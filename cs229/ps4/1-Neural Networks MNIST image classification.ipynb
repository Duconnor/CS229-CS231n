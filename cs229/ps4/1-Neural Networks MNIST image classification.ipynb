{
 "cells": [
  {
   "cell_type": "markdown",
   "metadata": {},
   "source": [
    "# CS229, Fall 2017\n",
    "## Problem Set 4: EM, DL & RL\n",
    "### 1. Neural Networks: MNIST image classification"
   ]
  },
  {
   "cell_type": "markdown",
   "metadata": {},
   "source": [
    "#### (a)"
   ]
  },
  {
   "cell_type": "code",
   "execution_count": 10,
   "metadata": {},
   "outputs": [],
   "source": [
    "import numpy as np\n",
    "import matplotlib.pyplot as plt"
   ]
  },
  {
   "cell_type": "code",
   "execution_count": 11,
   "metadata": {},
   "outputs": [],
   "source": [
    "def nn_test(data, labels, params):\n",
    "    h, output, cost = forward_prop(data.T, labels.T, params)\n",
    "    accuracy = compute_accuracy(output.T, labels)\n",
    "    return accuracy\n",
    "\n",
    "\n",
    "def compute_accuracy(output, labels):\n",
    "    accuracy = (np.argmax(output, axis=1) == np.argmax(\n",
    "        labels, axis=1)).sum() * 1. / labels.shape[0]\n",
    "    return accuracy\n",
    "\n",
    "\n",
    "def one_hot_labels(labels):\n",
    "    one_hot_labels = np.zeros((labels.size, 10))\n",
    "    one_hot_labels[np.arange(labels.size), labels.astype(int)] = 1\n",
    "    return one_hot_labels"
   ]
  },
  {
   "cell_type": "markdown",
   "metadata": {},
   "source": [
    "##### Backpropagation"
   ]
  },
  {
   "cell_type": "markdown",
   "metadata": {},
   "source": [
    "For a neural network in a more general form, we define the following notations:  \n",
    "* $X^{L}$: the input of layer L, a n by 1 matrix (vector)  \n",
    "* $W^{L}$: the weight between layer $L$ and layer $L+1$, a m by n matrix (where m is the number of the neurons in the $L+1 $ layer and n is the number of neurons in the $L$ layer)\n",
    "* $Z^{L}=W^{L}X^L$: the output of the $L$ layer, a m by 1 matrix\n",
    "* $A^{L}=f(Z^{L})$: the activation output of the $L$ layer, a m by 1 matrix"
   ]
  },
  {
   "cell_type": "markdown",
   "metadata": {},
   "source": [
    "Backpropagation involves 3 steps:\n",
    "1. Calculate the error term of the output layer directly\n",
    "2. Calculate the error term of all the other layers by using the error term of its later layer (back propagate the error)\n",
    "3. Calculate the derivates using the error term"
   ]
  },
  {
   "cell_type": "markdown",
   "metadata": {},
   "source": [
    "**Note: the multivariate chain rule**  \n",
    "For function $z=f(x,y)$, where $x,y$ is functions of $t$, therefore we have:\n",
    "$$\n",
    "\\frac{\\partial f}{\\partial t} = \\frac{\\partial f}{\\partial x}\\frac{\\partial x}{\\partial t} + \\frac{\\partial f}{\\partial y}\\frac{\\partial y}{\\partial t}\n",
    "$$"
   ]
  },
  {
   "cell_type": "markdown",
   "metadata": {},
   "source": [
    "###### Step 1"
   ]
  },
  {
   "cell_type": "markdown",
   "metadata": {},
   "source": [
    "We define the error term as:\n",
    "$$\n",
    "\\delta^{L} = \\frac{\\partial \\ell}{\\partial Z^{L}}\n",
    "$$\n",
    "where $\\ell$ is the loss function. By the definition of gradient, we know that $\\delta^L$ is a K by 1 matrix.\n",
    "For the error term of the output layer, we begin by examing one element in that error term:\n",
    "\\begin{align*}\n",
    "\\delta_i^{L} &= \\frac{\\partial \\ell}{\\partial Z_i^{L}}\\\\\n",
    "&= \\sum_{k}\\frac{\\partial \\ell}{\\partial A_k^{L}} \\frac{\\partial A_k^{L}}{Z_i^{L}}\\\\\n",
    "&= \\frac{\\partial \\ell}{\\partial A_i^L}\\frac{\\partial A_i^L}{Z_i^L}\n",
    "\\end{align*}\n",
    "We take this question as an example, in this problem, the loss function $\\ell$ is the cross-entropy, which has the following form:\n",
    "$$\n",
    "\\ell = -\\sum_{k=1}^Ky_k\\log \\hat{y}_k\n",
    "$$\n",
    "and also $\\hat{y}_k=A_k^L=f(Z_1^L,\\dots,Z_k^L,\\dots, Z_K^L)$ where $f$ is the softmax function. Therefore, the above equation is:\n",
    "\\begin{align*}\n",
    "\\delta_i^{L} &= \\frac{\\partial \\ell}{\\partial A_i^L}\\frac{\\partial A_i^L}{Z_i^L}\\\\\n",
    "&= -\\sum_{k}^K\\frac{y_k}{\\hat{y}_k}\\frac{\\partial \\hat{y}_k}{\\partial Z_i^L}\n",
    "\\end{align*}"
   ]
  },
  {
   "cell_type": "markdown",
   "metadata": {},
   "source": [
    "For the softmax function, we have:\n",
    "\\begin{align*}\n",
    "\\frac{\\partial \\hat{y}_k}{\\partial Z_i^L}=\\left\\{\n",
    "    \\begin{matrix}\n",
    "    \\frac{e^{z_j}\\sum_{k=1}^Ke^{z_k}-e^{2z_j}}{(\\sum_{k=1}^Ke^{z_k})^2}=\\frac{e^{z_j}}{\\sum_{k=1}^Ke^{z_k}}-\\frac{e^{z_j}}{\\sum_{k=1}^Ke^{z_k}}\\frac{e^{z_j}}{\\sum_{k=1}^Ke^{z_k}}={\\hat{y}_k(1-\\hat{y}_k)}&i==k\\\\\n",
    "    -\\frac{e^{z_j+z_k}}{(\\sum_{k=1}^Ke^{z_k})^2}=-\\hat{y}_k\\hat{y}_i&i\\ne k\n",
    "    \\end{matrix}\n",
    "\\right.\n",
    "\\end{align*}"
   ]
  },
  {
   "cell_type": "markdown",
   "metadata": {},
   "source": [
    "The complete matrix form is:\n",
    "\\begin{align*}\n",
    "\\delta^L&=\\frac{\\partial \\ell}{\\partial Z^L}\\\\\n",
    "&= J_zA\\nabla_A\\ell\n",
    "\\end{align*}\n",
    "where $J_zA$ is a K by K Jacobian matrix ($J_zA_{ik}=\\frac{\\partial \\hat{y}_k}{\\partial Z_i^L}$) and $\\nabla_A\\ell$ is a K by 1 vector."
   ]
  },
  {
   "cell_type": "markdown",
   "metadata": {},
   "source": [
    "We can further simplfy the above result by using the fact that $y$ is a one-hot-label, and therefore:\n",
    "$$\n",
    "\\delta^L = \\hat{y} - y\n",
    "$$"
   ]
  },
  {
   "cell_type": "markdown",
   "metadata": {},
   "source": [
    "###### Step 2"
   ]
  },
  {
   "cell_type": "markdown",
   "metadata": {},
   "source": [
    "For all the other layers except the output layer, we have the corresponding error term as:\n",
    "\\begin{align*}\n",
    "\\delta_i^{L-1} &= \\frac{\\partial\\ell}{\\partial Z_i^{L-1}}\\\\\n",
    "&= \\sum_{k=1}^K\\frac{\\partial \\ell}{\\partial Z_k^{L}}\\frac{\\partial Z_k^{L}}{\\partial Z_i^{L-1}}\\\\\n",
    "&= \\sum_{k=1}^K\\frac{\\partial \\ell}{\\partial Z_k^{L}}\\frac{\\partial Z_k^{L}}{\\partial A_i^{L-1}}\\frac{\\partial A_i^{L-1}}{\\partial Z_i^{L-1}}\\\\\n",
    "&= \\sum_{k=1}^K\\delta_k^{L}W_{ki}^{L-1}\\sigma(Z_i^{L-1})(1-\\sigma(Z_i^{L-1}))\n",
    "\\end{align*}\n",
    "where $\\sigma(x)$ is the sigmoid function and we use the fact that $\\sigma'=\\sigma(1-\\sigma)$"
   ]
  },
  {
   "cell_type": "markdown",
   "metadata": {},
   "source": [
    "The complete matrix form is:\n",
    "\\begin{align*}\n",
    "\\delta^{L-1}={\\delta^L}^TW^{L-1}\\odot\\bigg(\\sigma(Z^{L-1})(1-\\sigma(Z^{L-1}))\\bigg)\n",
    "\\end{align*}"
   ]
  },
  {
   "cell_type": "markdown",
   "metadata": {},
   "source": [
    "###### Step 3"
   ]
  },
  {
   "cell_type": "markdown",
   "metadata": {},
   "source": [
    "The derivate can be calculated by:\n",
    "\\begin{align*}\n",
    "\\frac{\\partial \\ell}{\\partial W_{ij}^{L-1}}&=\\sum_{k=1}^K\\frac{\\partial \\ell}{\\partial Z_k^L}\\frac{\\partial Z_k^L}{\\partial W_{ij}^{L-1}}\\\\\n",
    "&=\\frac{\\partial \\ell}{\\partial Z_i^L}\\frac{\\partial Z_i^L}{\\partial W_{ij}^{L-1}}\\\\\n",
    "&=\\delta_i^LA_j^{L-1}\n",
    "\\end{align*}"
   ]
  },
  {
   "cell_type": "markdown",
   "metadata": {},
   "source": [
    "The complete matrix form is:\n",
    "\\begin{align*}\n",
    "H_{W^{L-1}}\\ell=\\delta^L{A^{L-1}}^T\n",
    "\\end{align*}"
   ]
  },
  {
   "cell_type": "code",
   "execution_count": 12,
   "metadata": {},
   "outputs": [],
   "source": [
    "def readData(images_file, labels_file):\n",
    "    x = np.loadtxt(images_file, delimiter=',')\n",
    "    y = np.loadtxt(labels_file, delimiter=',')\n",
    "    return x, y"
   ]
  },
  {
   "cell_type": "markdown",
   "metadata": {},
   "source": [
    "For computing softmax, the overflow could easily happen due to the existence of exp function. By refering to [this implementation](https://github.com/zyxue/stanford-cs231n/blob/master/assignment1/cs231n/classifiers/softmax.py#L65) we can avoid this by subtracting the maximum value of all components of $x$ from all components in $x$:\n",
    "$$\n",
    "{\\rm{softmax}}(x)_i=\\frac{e^{x_i}}{\\sum_j e^{x_j}}=\\frac{e^{x_i-C}}{\\sum_j e^{x_j-C}}=\\frac{e^{x_i}e^C}{e^C\\sum_j e^{x_j}}=\\frac{e^{x_i}}{\\sum_j e^{x_j}}\n",
    "$$"
   ]
  },
  {
   "cell_type": "code",
   "execution_count": 13,
   "metadata": {},
   "outputs": [],
   "source": [
    "def softmax(x):\n",
    "    \"\"\"\n",
    "    Compute softmax function for input. \n",
    "    Use tricks from previous assignment to avoid overflow\n",
    "    \"\"\"\n",
    "    # YOUR CODE HERE\n",
    "    max_value = np.max(x, 0)\n",
    "    s = np.exp(x - max_value) / np.sum(np.exp(x - max_value), 0)\n",
    "    # END YOUR CODE\n",
    "    return s\n",
    "\n",
    "\n",
    "def sigmoid(x):\n",
    "    \"\"\"\n",
    "    Compute the sigmoid function for the input here.\n",
    "    \"\"\"\n",
    "    # YOUR CODE HERE\n",
    "    s = 1 / (1 + np.exp(-x))\n",
    "    # END YOUR CODE\n",
    "    return s\n",
    "\n",
    "\n",
    "def forward_prop(data, labels, params):\n",
    "    \"\"\"\n",
    "    return hidder layer, output(softmax) layer and loss\n",
    "    \"\"\"\n",
    "    W1 = params['W1']\n",
    "    b1 = params['b1']\n",
    "    W2 = params['W2']\n",
    "    b2 = params['b2']\n",
    "\n",
    "    # YOUR CODE HERE\n",
    "    '''\n",
    "    data: a n by m vector, where n = 784 and m is the number of data\n",
    "    W1: a k by n matrix, where k = 300 is the number of hidden units\n",
    "    W2: a 10 by k matrix\n",
    "    '''\n",
    "    # 1. Input layer to the hidden layer\n",
    "    h = sigmoid(((W1 @ data).T + b1.reshape(-1)).T)\n",
    "\n",
    "    # 2. Hidden layer to output layer\n",
    "    y = softmax(((W2 @ h).T + b2.reshape(-1)).T)\n",
    "\n",
    "    # 3. Compute the cost\n",
    "    cost = -np.sum(labels * np.log(y))\n",
    "\n",
    "    # END YOUR CODE\n",
    "    return h, y, cost"
   ]
  },
  {
   "cell_type": "code",
   "execution_count": 30,
   "metadata": {},
   "outputs": [],
   "source": [
    "def backward_prop(data, labels, params):\n",
    "    \"\"\"\n",
    "    return gradient of parameters\n",
    "    \"\"\"\n",
    "    W1 = params['W1']\n",
    "    b1 = params['b1']\n",
    "    W2 = params['W2']\n",
    "    b2 = params['b2']\n",
    "\n",
    "    # YOUR CODE HERE\n",
    "    # First, we do a forward propagation\n",
    "    h, y, cost = forward_prop(data, labels, params)\n",
    "\n",
    "    # Second, we calculate all error\n",
    "    delta_2 = y - labels\n",
    "    \n",
    "    # Propagate backward\n",
    "    delta_1 = (delta_2.T @ W2).T * (h * (1 - h))\n",
    "\n",
    "    # Get the gradient\n",
    "    gradW1 = delta_1 @ data.T\n",
    "    gradb1 = np.sum(delta_1, 1).reshape(-1, 1)\n",
    "    gradW2 = delta_2 @ h.T\n",
    "    gradb2 = np.sum(delta_2, 1).reshape(-1, 1)\n",
    "    # END YOUR CODE\n",
    "\n",
    "    grad = {}\n",
    "    grad['W1'] = gradW1\n",
    "    grad['W2'] = gradW2\n",
    "    grad['b1'] = gradb1\n",
    "    grad['b2'] = gradb2\n",
    "\n",
    "    return grad"
   ]
  },
  {
   "cell_type": "code",
   "execution_count": 35,
   "metadata": {},
   "outputs": [],
   "source": [
    "def nn_train(trainData, trainLabels, devData, devLabels, lamb = 0):\n",
    "    print('Training begin')\n",
    "    (m, n) = trainData.shape\n",
    "    num_hidden = 300\n",
    "    learning_rate = 5\n",
    "    params = {}\n",
    "\n",
    "    # YOUR CODE HERE    \n",
    "    B = 1000 # Mini batch size\n",
    "    iteration_per_epoch = m / 1000\n",
    "    epoch_round = 30\n",
    "    train_error_history = [0] * epoch_round\n",
    "    dev_error_history = [0] * epoch_round\n",
    "    train_accuracy_history = [0] * epoch_round\n",
    "    dev_accuracy_history = [0] * epoch_round\n",
    "    \n",
    "    # Initialize the parameter\n",
    "    params['b1'] = np.zeros([num_hidden, 1])\n",
    "    params['b2'] = np.zeros([10, 1])\n",
    "    params['W1'] = np.random.randn(num_hidden, n)\n",
    "    params['W2'] = np.random.randn(10, num_hidden)\n",
    "    \n",
    "    for i in range(epoch_round):\n",
    "        print('Epoch %d begin' % (i + 1))\n",
    "        for j in range(int(iteration_per_epoch)):\n",
    "            # One batch\n",
    "            batch_data = np.array(trainData[j * B:(j + 1) * B]).T\n",
    "            batch_label = np.array(trainLabels[j * B:(j + 1) * B]).T\n",
    "            grad = backward_prop(batch_data, batch_label, params)\n",
    "            # Update parameter\n",
    "            for k in params:\n",
    "                if k == 'W1' or k == 'W2':\n",
    "                    params[k] = params[k] - (learning_rate / B) * grad[k] - 2 * learning_rate * lamb * params[k]\n",
    "                else:\n",
    "                    params[k] -= (learning_rate / B) * grad[k]\n",
    "        # Calculate error averaged over the entire data set\n",
    "        _, train_y, train_error_history[i] = forward_prop(trainData.T, trainLabels.T, params)\n",
    "        train_error_history[i] /= m\n",
    "        train_accuracy_history[i] = compute_accuracy(output=train_y.T, labels=trainLabels)\n",
    "        _, dev_y, dev_error_history[i] = forward_prop(devData.T, devLabels.T, params)\n",
    "        dev_error_history[i] /= m\n",
    "        dev_accuracy_history[i] = compute_accuracy(output=dev_y.T, labels=devLabels)\n",
    "        \n",
    "    # Plot the image\n",
    "    # Error\n",
    "    plt.plot(range(1, epoch_round + 1), train_error_history, label = 'training set')\n",
    "    plt.plot(range(1, epoch_round + 1), dev_error_history, label = 'dev set')\n",
    "    plt.legend()\n",
    "    plt.title('Error')\n",
    "    \n",
    "    # Accuracy\n",
    "    plt.figure()\n",
    "    plt.plot(range(1, epoch_round + 1), train_accuracy_history, label = 'training set')\n",
    "    plt.plot(range(1, epoch_round + 1), dev_accuracy_history, label = 'dev set')\n",
    "    plt.legend()\n",
    "    plt.title('Accuracy')\n",
    "    # END YOUR CODE\n",
    "\n",
    "    return params"
   ]
  },
  {
   "cell_type": "code",
   "execution_count": 16,
   "metadata": {},
   "outputs": [],
   "source": [
    "def save_params(params):\n",
    "    for param in params:\n",
    "        np.savetxt(\"./params/\" + param, params[param])\n",
    "        \n",
    "def load_params():\n",
    "    params = {}\n",
    "    params['b1'] = np.loadtxt('./params/b1')\n",
    "    params['b2'] = np.loadtxt('./params/b2')\n",
    "    params['W1'] = np.loadtxt('./params/W1')\n",
    "    params['W2'] = np.loadtxt('./params/W2')\n",
    "    return params"
   ]
  },
  {
   "cell_type": "code",
   "execution_count": 17,
   "metadata": {},
   "outputs": [
    {
     "name": "stdout",
     "output_type": "stream",
     "text": [
      "Begin loading data\n",
      "Loading end\n"
     ]
    }
   ],
   "source": [
    "np.random.seed(100)\n",
    "print('Begin loading data')\n",
    "trainData, trainLabels = readData(\n",
    "    './data/images_train.csv', './data/labels_train.csv')\n",
    "trainLabels = one_hot_labels(trainLabels)\n",
    "p = np.random.permutation(60000)\n",
    "trainData = trainData[p, :]\n",
    "trainLabels = trainLabels[p, :]\n",
    "\n",
    "devData = trainData[0:10000, :]\n",
    "devLabels = trainLabels[0:10000, :]\n",
    "trainData = trainData[10000:, :]\n",
    "trainLabels = trainLabels[10000:, :]\n",
    "\n",
    "mean = np.mean(trainData)\n",
    "std = np.std(trainData)\n",
    "trainData = (trainData - mean) / std\n",
    "devData = (devData - mean) / std\n",
    "\n",
    "testData, testLabels = readData(\n",
    "    './data/images_test.csv', './data/labels_test.csv')\n",
    "testLabels = one_hot_labels(testLabels)\n",
    "testData = (testData - mean) / std\n",
    "print('Loading end')"
   ]
  },
  {
   "cell_type": "code",
   "execution_count": 25,
   "metadata": {},
   "outputs": [
    {
     "name": "stdout",
     "output_type": "stream",
     "text": [
      "Begin training\n",
      "Training begin\n",
      "Epoch 1 begin\n",
      "Epoch 2 begin\n",
      "Epoch 3 begin\n",
      "Epoch 4 begin\n",
      "Epoch 5 begin\n",
      "Epoch 6 begin\n",
      "Epoch 7 begin\n",
      "Epoch 8 begin\n",
      "Epoch 9 begin\n",
      "Epoch 10 begin\n",
      "Epoch 11 begin\n",
      "Epoch 12 begin\n",
      "Epoch 13 begin\n",
      "Epoch 14 begin\n",
      "Epoch 15 begin\n",
      "Epoch 16 begin\n",
      "Epoch 17 begin\n",
      "Epoch 18 begin\n",
      "Epoch 19 begin\n",
      "Epoch 20 begin\n",
      "Epoch 21 begin\n",
      "Epoch 22 begin\n",
      "Epoch 23 begin\n",
      "Epoch 24 begin\n",
      "Epoch 25 begin\n",
      "Epoch 26 begin\n",
      "Epoch 27 begin\n",
      "Epoch 28 begin\n",
      "Epoch 29 begin\n",
      "Epoch 30 begin\n",
      "Training end, result saved in ./params/\n",
      "Test accuracy: 0.934700\n"
     ]
    },
    {
     "data": {
      "image/png": "[encoded data removed]",
      "text/plain": [
       "<Figure size 432x288 with 1 Axes>"
      ]
     },
     "metadata": {
      "needs_background": "light"
     },
     "output_type": "display_data"
    },
    {
     "data": {
      "image/png": "[encoded data removed]",
      "text/plain": [
       "<Figure size 432x288 with 1 Axes>"
      ]
     },
     "metadata": {
      "needs_background": "light"
     },
     "output_type": "display_data"
    }
   ],
   "source": [
    "train = True\n",
    "if train:\n",
    "    print('Begin training')\n",
    "    params = nn_train(trainData, trainLabels, devData, devLabels)\n",
    "    save_params(params)\n",
    "    print('Training end, result saved in ./params/')\n",
    "else:\n",
    "    print('Loading learned parameters')\n",
    "    params = load_params()\n",
    "    print('Loading end')\n",
    "    \n",
    "\n",
    "readyForTesting = True\n",
    "if readyForTesting:\n",
    "        accuracy = nn_test(testData, testLabels, params)\n",
    "        print('Test accuracy: %f' % accuracy)"
   ]
  },
  {
   "cell_type": "markdown",
   "metadata": {},
   "source": [
    "#### (b)"
   ]
  },
  {
   "cell_type": "markdown",
   "metadata": {},
   "source": [
    "First, we modify the code in function 'nn_train', we add an extra parameter 'lamb' which indicates the regularization $\\lambda$. We set its default value to be 0, which is equivalent to not using regularization."
   ]
  },
  {
   "cell_type": "markdown",
   "metadata": {},
   "source": [
    "Now, we re-implement the training code as follows:"
   ]
  },
  {
   "cell_type": "code",
   "execution_count": 36,
   "metadata": {},
   "outputs": [
    {
     "name": "stdout",
     "output_type": "stream",
     "text": [
      "Begin training\n",
      "Training begin\n",
      "Epoch 1 begin\n",
      "Epoch 2 begin\n",
      "Epoch 3 begin\n",
      "Epoch 4 begin\n",
      "Epoch 5 begin\n",
      "Epoch 6 begin\n",
      "Epoch 7 begin\n",
      "Epoch 8 begin\n",
      "Epoch 9 begin\n",
      "Epoch 10 begin\n",
      "Epoch 11 begin\n",
      "Epoch 12 begin\n",
      "Epoch 13 begin\n",
      "Epoch 14 begin\n",
      "Epoch 15 begin\n",
      "Epoch 16 begin\n",
      "Epoch 17 begin\n",
      "Epoch 18 begin\n",
      "Epoch 19 begin\n",
      "Epoch 20 begin\n",
      "Epoch 21 begin\n",
      "Epoch 22 begin\n",
      "Epoch 23 begin\n",
      "Epoch 24 begin\n",
      "Epoch 25 begin\n",
      "Epoch 26 begin\n",
      "Epoch 27 begin\n",
      "Epoch 28 begin\n",
      "Epoch 29 begin\n",
      "Epoch 30 begin\n",
      "Training end, result saved in ./params/\n",
      "Test accuracy: 0.965300\n"
     ]
    },
    {
     "data": {
      "image/png": "[encoded data removed]",
      "text/plain": [
       "<Figure size 432x288 with 1 Axes>"
      ]
     },
     "metadata": {
      "needs_background": "light"
     },
     "output_type": "display_data"
    },
    {
     "data": {
      "image/png": "[encoded data removed]",
      "text/plain": [
       "<Figure size 432x288 with 1 Axes>"
      ]
     },
     "metadata": {
      "needs_background": "light"
     },
     "output_type": "display_data"
    }
   ],
   "source": [
    "train = True\n",
    "if train:\n",
    "    print('Begin training')\n",
    "    params = nn_train(trainData, trainLabels, devData, devLabels, lamb=0.0001)\n",
    "    save_params(params)\n",
    "    print('Training end, result saved in ./params/')\n",
    "else:\n",
    "    print('Loading learned parameters')\n",
    "    params = load_params()\n",
    "    print('Loading end')\n",
    "    \n",
    "\n",
    "readyForTesting = True\n",
    "if readyForTesting:\n",
    "        accuracy = nn_test(testData, testLabels, params)\n",
    "        print('Test accuracy: %f' % accuracy)"
   ]
  },
  {
   "cell_type": "markdown",
   "metadata": {},
   "source": [
    "As we can see from above, apparently that the neural network with regularization generalize better than the neural network without regularization (this can be seen because for the regularized network, both the training error and training accuracy imporved on the dev set)."
   ]
  },
  {
   "cell_type": "markdown",
   "metadata": {},
   "source": [
    "#### (c)"
   ]
  },
  {
   "cell_type": "markdown",
   "metadata": {},
   "source": [
    "As we have calculated above, the accuracy on the test set for two different kinds of neural networks are $0.934700$ (without regularization) and $0.965300$ (with regularization). So it is quite apparently that regularization helps our model generalize better!"
   ]
  },
  {
   "cell_type": "code",
   "execution_count": null,
   "metadata": {},
   "outputs": [],
   "source": []
  }
 ],
 "metadata": {
  "kernelspec": {
   "display_name": "Python 3",
   "language": "python",
   "name": "python3"
  },
  "language_info": {
   "codemirror_mode": {
    "name": "ipython",
    "version": 3
   },
   "file_extension": ".py",
   "mimetype": "text/x-python",
   "name": "python",
   "nbconvert_exporter": "python",
   "pygments_lexer": "ipython3",
   "version": "3.7.4"
  }
 },
 "nbformat": 4,
 "nbformat_minor": 4
}
