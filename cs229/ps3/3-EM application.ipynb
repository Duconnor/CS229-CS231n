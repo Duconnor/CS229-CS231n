{
 "cells": [
  {
   "cell_type": "markdown",
   "metadata": {},
   "source": [
    "# CS229, Fall 2017\n",
    "## Problem Set 3: Deep Learning & Unsupervised Learning\n",
    "### 3. EM application"
   ]
  },
  {
   "cell_type": "markdown",
   "metadata": {},
   "source": [
    "#### (a)"
   ]
  },
  {
   "cell_type": "markdown",
   "metadata": {},
   "source": [
    "##### (i)"
   ]
  },
  {
   "cell_type": "markdown",
   "metadata": {},
   "source": [
    "Let\n",
    "\\begin{equation*}\n",
    "w=\n",
    "\\left[\n",
    "    \\begin{matrix}\n",
    "    y^{(pr)}\\\\\n",
    "    z^{(pr)}\\\\\n",
    "    x^{(pr)}\\\\\n",
    "    \\end{matrix}\n",
    "\\right]\n",
    "\\end{equation*}\n",
    "be the correspondong vector-valued random variable.  \n",
    "For joint distribution $p(y^{(pr)}, z^{(pr)}, x^{(pr)})=p(w)$, its associated mean vector $\\mu$ is:\n",
    "\\begin{equation*}\n",
    "\\mu = \n",
    "\\left[\n",
    "    \\begin{matrix}\n",
    "    \\mu_y\\\\\n",
    "    \\mu_z\\\\\n",
    "    \\mu_x\\\\\n",
    "    \\end{matrix}\n",
    "\\right]\n",
    "=\n",
    "\\left[\n",
    "    \\begin{matrix}\n",
    "    \\mu_p\\\\\n",
    "    \\mathcal{v}_r\\\\\n",
    "    \\mu_p + \\mathcal{v}_r\\\\\n",
    "    \\end{matrix}\n",
    "\\right]\n",
    "\\end{equation*}"
   ]
  },
  {
   "cell_type": "markdown",
   "metadata": {},
   "source": [
    "And for the covariance matrix $\\Sigma$, we have:\n",
    "\\begin{align*}\n",
    "Cov(w) &= \\Sigma\\\\\n",
    "&= E[(w-\\mu)(w-\\mu)^{\\mathrm T}]\\\\\n",
    "&= E\\left[\n",
    "    \\left(\n",
    "    \\begin{matrix}\n",
    "    y^{(pr)}-\\mu_y\\\\\n",
    "    z^{(pr)}-\\mu_z\\\\\n",
    "    x^{(pr)}-\\mu_x\\\\\n",
    "    \\end{matrix}\n",
    "    \\right)\n",
    "    \\left(\n",
    "    \\begin{matrix}\n",
    "    y^{(pr)}-\\mu_y\\\\\n",
    "    z^{(pr)}-\\mu_z\\\\\n",
    "    x^{(pr)}-\\mu_x\n",
    "    \\end{matrix}\n",
    "    \\right)^{\\mathrm T}\n",
    "\\right]\\\\\n",
    "&= E\\left[\n",
    "    \\begin{matrix}\n",
    "    (y^{(pr)}-\\mu_y)(y^{(pr)}-\\mu_y)^{\\mathrm T}&(y^{(pr)}-\\mu_y)(z^{(pr)}-\\mu_z)^{\\mathrm T}&(y^{(pr)}-\\mu_y)(x^{(pr)}-\\mu_x)^{\\mathrm T}\\\\\n",
    "    (z^{(pr)}-\\mu_z)(y^{(pr)}-\\mu_y)^{\\mathrm T}&(z^{(pr)}-\\mu_z)(z^{(pr)}-\\mu_z)^{\\mathrm T}&(z^{(pr)}-\\mu_z)(x^{(pr)}-\\mu_x)^{\\mathrm T}\\\\\n",
    "    (x^{(pr)}-\\mu_x)(y^{(pr)}-\\mu_y)^{\\mathrm T}&(x^{(pr)}-\\mu_x)(z^{(pr)}-\\mu_z)^{\\mathrm T}&(x^{(pr)}-\\mu_x)(x^{(pr)}-\\mu_x)^{\\mathrm T}\\\\\n",
    "    \\end{matrix}\n",
    "\\right]\n",
    "\\end{align*}"
   ]
  },
  {
   "cell_type": "markdown",
   "metadata": {},
   "source": [
    "Because $y^{(pr)}$ and $z^{(pr)}$ are independent and $x^{(pr)}$ can be written as: $x^{(pr)}=y^{(pr)}+z^{(pr)}+\\epsilon^{(pr)}$. Then we have:\n",
    "\\begin{align*}\n",
    "D(x^{(pr)})&=D(y^{(pr)}+z^{(pr)})+D(\\epsilon^{(pr)})+0\\\\\n",
    "&= D(y^{(pr)})+D(z^{(pr)})+0+\\sigma^2\\\\\n",
    "&= \\sigma_p^2+\\tau_r^2+\\sigma^2\\\\\n",
    "\\end{align*}\n",
    "And also:\n",
    "\\begin{align*}\n",
    "Cov(y^{(pr)}, x^{(pr)})&=E[y^{(pr)}x^{(pr)}]-E[y^{(pr)}]E[x^{(pr)}]\\\\\n",
    "&=E[{y^{(pr)}}^2]+E[z^{(pr)}y^{(pr)}]+E[\\epsilon^{(pr)}y^{(pr)}]-E[y^{(pr)}]E[x^{(pr)}]\\\\\n",
    "&=\\sigma_p^2+\\mu_p^2+\\mu_p\\mathcal{v}_r+0-\\mu_p(\\mu_p+\\mathcal{v}_r)\\\\\n",
    "&=\\sigma_p^2\\\\\n",
    "Cov(z^{(pr)}, x^{(pr)})&=\\tau_r^2+\\mathcal{v}_r^2+\\mu_p\\mathcal{v}_r+0-\\mathcal{v}_r(\\mu_p+\\mathcal{v}_r)\\\\\n",
    "&=\\tau_r^2\n",
    "\\end{align*}"
   ]
  },
  {
   "cell_type": "markdown",
   "metadata": {},
   "source": [
    "Therefore, the covariance matrix can be written as:\n",
    "\\begin{align*}\n",
    "\\Sigma = \\left[\n",
    "    \\begin{matrix}\n",
    "    \\sigma_p^2&{\\bf{0}}&\\sigma_p^2\\\\\n",
    "    {\\bf 0}&\\tau_r^2&\\tau_r^2\\\\\n",
    "    \\sigma_p^2&\\tau_r^2&\\sigma_p^2+\\tau_r^2+\\sigma^2\\\\\n",
    "    \\end{matrix}\n",
    "\\right]\n",
    "\\end{align*}"
   ]
  },
  {
   "cell_type": "markdown",
   "metadata": {},
   "source": [
    "##### (ii)"
   ]
  },
  {
   "cell_type": "markdown",
   "metadata": {},
   "source": [
    "We can write the expression in E-step as:\n",
    "$$\n",
    "Q_{pr}(y^{(pr)}, z^{(pr)})=p(y^{(pr)}, z^{(pr)}|x^{(pr)})=p(y^{(pr)}|x^{(pr)})p(z^{(pr)}|x^{(pr)})\n",
    "$$\n",
    "Note that the above is true because $y^{(pr)}$ and $z^{(pr)}$ is independent."
   ]
  },
  {
   "cell_type": "markdown",
   "metadata": {},
   "source": [
    "According to the result in the notes on Factor Analysis (notes9), we know that both $y^{(pr)}|x^{(pr)}$ and $z^{(pr)}|x^{(pr)}$ obey $\\mathcal{N}(\\mu_{1|2}, \\Sigma_{1|2})$, whose parameters can be calculated as:\n",
    "\\begin{align*}\n",
    "&\\mu_{1|2}=\\mu_{1}+\\Sigma_{12}\\Sigma_{22}^{-1}(x-\\mu_2)\\\\\n",
    "&\\Sigma_{1|2}=\\Sigma_{11}-\\Sigma_{12}\\Sigma_{22}^{-1}\\Sigma_{21}\n",
    "\\end{align*}"
   ]
  },
  {
   "cell_type": "markdown",
   "metadata": {},
   "source": [
    "By substituting the result we calculated in question (i) in the above expressions, we have:\n",
    "\\begin{align*}\n",
    "Q_{pr}(y^{(pr)}, z^{(pr)})&=p(y^{pr}|x^{pr})p(z^{(pr)}|x^{(pr)})\\\\\n",
    "&=\\frac{1}{(2\\pi)^{PR}|\\Sigma_{y^{(pr)}|x^{(pr)}}|^{1/2}|\\Sigma_{z^{(pr)}|x^{(pr)}}|^{1/2}}\\\\\n",
    "&\\exp\\bigg(-\\frac{1}{2}(y^{(pr)}-\\mu_{y^{(pr)}|x^{(pr)}})^{\\mathrm T}\\Sigma_{y^{(pr)}|x^{(pr)}}^{-1}(y^{(pr)}-\\mu_{y^{(pr)}|x^{(pr)}})\\\\\n",
    "&-\\frac{1}{2}(z^{(pr)}-\\mu_{z^{(pr)}|x^{(pr)}})^{\\mathrm T}\\Sigma_{z^{(pr)}|x^{(pr)}}^{-1}(z^{(pr)}-\\mu_{z^{(pr)}|x^{(pr)}})\\bigg)\n",
    "\\end{align*}\n",
    "where:\n",
    "\\begin{align*}\n",
    "&\\mu_{y^{pr}|x^{(pr)}}=\\mu_p + \\sigma_p^2(\\sigma_p^2+\\tau_r^2+\\sigma^2)^{-1}(x^{(pr)}-\\mu_p-\\mathcal{v}_r)\\\\\n",
    "&\\Sigma_{y^{(pr)}|x^{(pr)}}=\\sigma_p^2-\\sigma_p^2(\\sigma_p^2+\\tau_r^2+\\sigma^2)^{-1}\\sigma_p^2\\\\\n",
    "&\\mu_{z^{(pr)}|x^{(pr)}}=\\mathcal{v}_r + \\tau_r^2(\\sigma_p^2+\\tau_r^2+\\sigma^2)^{-1}(x^{(pr)}-\\mu_p-\\mathcal{v}_r)\\\\\n",
    "&\\Sigma_{z^{(pr)}|x^{(pr)}}=\\tau_r^2-\\tau_r^2(\\sigma_p^2+\\tau_r^2+\\sigma^2)^{-1}\\tau_r^2\\\\\n",
    "\\end{align*}"
   ]
  },
  {
   "cell_type": "markdown",
   "metadata": {},
   "source": [
    "#### (b)"
   ]
  },
  {
   "cell_type": "markdown",
   "metadata": {},
   "source": []
  }
 ],
 "metadata": {
  "kernelspec": {
   "display_name": "Python 3",
   "language": "python",
   "name": "python3"
  },
  "language_info": {
   "codemirror_mode": {
    "name": "ipython",
    "version": 3
   },
   "file_extension": ".py",
   "mimetype": "text/x-python",
   "name": "python",
   "nbconvert_exporter": "python",
   "pygments_lexer": "ipython3",
   "version": "3.6.7"
  }
 },
 "nbformat": 4,
 "nbformat_minor": 2
}
